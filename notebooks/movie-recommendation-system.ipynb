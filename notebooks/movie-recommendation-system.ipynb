{
 "cells": [
  {
   "cell_type": "markdown",
   "id": "3b1b1259",
   "metadata": {
    "papermill": {
     "duration": 0.008676,
     "end_time": "2025-03-12T08:59:53.191319",
     "exception": false,
     "start_time": "2025-03-12T08:59:53.182643",
     "status": "completed"
    },
    "tags": []
   },
   "source": [
    "## Imports"
   ]
  },
  {
   "cell_type": "code",
   "execution_count": 1,
   "id": "81f183e9",
   "metadata": {
    "_cell_guid": "b1076dfc-b9ad-4769-8c92-a6c4dae69d19",
    "_uuid": "8f2839f25d086af736a60e9eeb907d3b93b6e0e5",
    "execution": {
     "iopub.execute_input": "2025-03-12T08:59:53.209307Z",
     "iopub.status.busy": "2025-03-12T08:59:53.208939Z",
     "iopub.status.idle": "2025-03-12T08:59:58.913451Z",
     "shell.execute_reply": "2025-03-12T08:59:58.912079Z"
    },
    "papermill": {
     "duration": 5.716681,
     "end_time": "2025-03-12T08:59:58.916491",
     "exception": false,
     "start_time": "2025-03-12T08:59:53.199810",
     "status": "completed"
    },
    "tags": []
   },
   "outputs": [
    {
     "name": "stdout",
     "output_type": "stream",
     "text": [
      "Requirement already satisfied: ydata-profiling in /usr/local/lib/python3.10/dist-packages (4.12.2)\r\n",
      "Requirement already satisfied: scipy<1.16,>=1.4.1 in /usr/local/lib/python3.10/dist-packages (from ydata-profiling) (1.13.1)\r\n",
      "Requirement already satisfied: pandas!=1.4.0,<3,>1.1 in /usr/local/lib/python3.10/dist-packages (from ydata-profiling) (2.2.3)\r\n",
      "Requirement already satisfied: matplotlib>=3.5 in /usr/local/lib/python3.10/dist-packages (from ydata-profiling) (3.7.5)\r\n",
      "Requirement already satisfied: pydantic>=2 in /usr/local/lib/python3.10/dist-packages (from ydata-profiling) (2.11.0a2)\r\n",
      "Requirement already satisfied: PyYAML<6.1,>=5.0.0 in /usr/local/lib/python3.10/dist-packages (from ydata-profiling) (6.0.2)\r\n",
      "Requirement already satisfied: jinja2<3.2,>=2.11.1 in /usr/local/lib/python3.10/dist-packages (from ydata-profiling) (3.1.4)\r\n",
      "Requirement already satisfied: visions<0.8.0,>=0.7.5 in /usr/local/lib/python3.10/dist-packages (from visions[type_image_path]<0.8.0,>=0.7.5->ydata-profiling) (0.7.6)\r\n",
      "Requirement already satisfied: numpy<2.2,>=1.16.0 in /usr/local/lib/python3.10/dist-packages (from ydata-profiling) (1.26.4)\r\n",
      "Requirement already satisfied: htmlmin==0.1.12 in /usr/local/lib/python3.10/dist-packages (from ydata-profiling) (0.1.12)\r\n",
      "Requirement already satisfied: phik<0.13,>=0.11.1 in /usr/local/lib/python3.10/dist-packages (from ydata-profiling) (0.12.4)\r\n",
      "Requirement already satisfied: requests<3,>=2.24.0 in /usr/local/lib/python3.10/dist-packages (from ydata-profiling) (2.32.3)\r\n",
      "Requirement already satisfied: tqdm<5,>=4.48.2 in /usr/local/lib/python3.10/dist-packages (from ydata-profiling) (4.67.1)\r\n",
      "Requirement already satisfied: seaborn<0.14,>=0.10.1 in /usr/local/lib/python3.10/dist-packages (from ydata-profiling) (0.12.2)\r\n",
      "Requirement already satisfied: multimethod<2,>=1.4 in /usr/local/lib/python3.10/dist-packages (from ydata-profiling) (1.12)\r\n",
      "Requirement already satisfied: statsmodels<1,>=0.13.2 in /usr/local/lib/python3.10/dist-packages (from ydata-profiling) (0.14.4)\r\n",
      "Requirement already satisfied: typeguard<5,>=3 in /usr/local/lib/python3.10/dist-packages (from ydata-profiling) (4.4.1)\r\n",
      "Requirement already satisfied: imagehash==4.3.1 in /usr/local/lib/python3.10/dist-packages (from ydata-profiling) (4.3.1)\r\n",
      "Requirement already satisfied: wordcloud>=1.9.3 in /usr/local/lib/python3.10/dist-packages (from ydata-profiling) (1.9.4)\r\n",
      "Requirement already satisfied: dacite>=1.8 in /usr/local/lib/python3.10/dist-packages (from ydata-profiling) (1.9.2)\r\n",
      "Requirement already satisfied: PyWavelets in /usr/local/lib/python3.10/dist-packages (from imagehash==4.3.1->ydata-profiling) (1.8.0)\r\n",
      "Requirement already satisfied: pillow in /usr/local/lib/python3.10/dist-packages (from imagehash==4.3.1->ydata-profiling) (11.0.0)\r\n",
      "Requirement already satisfied: MarkupSafe>=2.0 in /usr/local/lib/python3.10/dist-packages (from jinja2<3.2,>=2.11.1->ydata-profiling) (3.0.2)\r\n",
      "Requirement already satisfied: contourpy>=1.0.1 in /usr/local/lib/python3.10/dist-packages (from matplotlib>=3.5->ydata-profiling) (1.3.1)\r\n",
      "Requirement already satisfied: cycler>=0.10 in /usr/local/lib/python3.10/dist-packages (from matplotlib>=3.5->ydata-profiling) (0.12.1)\r\n",
      "Requirement already satisfied: fonttools>=4.22.0 in /usr/local/lib/python3.10/dist-packages (from matplotlib>=3.5->ydata-profiling) (4.55.3)\r\n",
      "Requirement already satisfied: kiwisolver>=1.0.1 in /usr/local/lib/python3.10/dist-packages (from matplotlib>=3.5->ydata-profiling) (1.4.7)\r\n",
      "Requirement already satisfied: packaging>=20.0 in /usr/local/lib/python3.10/dist-packages (from matplotlib>=3.5->ydata-profiling) (24.2)\r\n",
      "Requirement already satisfied: pyparsing>=2.3.1 in /usr/local/lib/python3.10/dist-packages (from matplotlib>=3.5->ydata-profiling) (3.2.0)\r\n",
      "Requirement already satisfied: python-dateutil>=2.7 in /usr/local/lib/python3.10/dist-packages (from matplotlib>=3.5->ydata-profiling) (2.9.0.post0)\r\n",
      "Requirement already satisfied: mkl_fft in /usr/local/lib/python3.10/dist-packages (from numpy<2.2,>=1.16.0->ydata-profiling) (1.3.8)\r\n",
      "Requirement already satisfied: mkl_random in /usr/local/lib/python3.10/dist-packages (from numpy<2.2,>=1.16.0->ydata-profiling) (1.2.4)\r\n",
      "Requirement already satisfied: mkl_umath in /usr/local/lib/python3.10/dist-packages (from numpy<2.2,>=1.16.0->ydata-profiling) (0.1.1)\r\n",
      "Requirement already satisfied: mkl in /usr/local/lib/python3.10/dist-packages (from numpy<2.2,>=1.16.0->ydata-profiling) (2025.0.1)\r\n",
      "Requirement already satisfied: tbb4py in /usr/local/lib/python3.10/dist-packages (from numpy<2.2,>=1.16.0->ydata-profiling) (2022.0.0)\r\n",
      "Requirement already satisfied: mkl-service in /usr/local/lib/python3.10/dist-packages (from numpy<2.2,>=1.16.0->ydata-profiling) (2.4.1)\r\n",
      "Requirement already satisfied: pytz>=2020.1 in /usr/local/lib/python3.10/dist-packages (from pandas!=1.4.0,<3,>1.1->ydata-profiling) (2025.1)\r\n",
      "Requirement already satisfied: tzdata>=2022.7 in /usr/local/lib/python3.10/dist-packages (from pandas!=1.4.0,<3,>1.1->ydata-profiling) (2025.1)\r\n",
      "Requirement already satisfied: joblib>=0.14.1 in /usr/local/lib/python3.10/dist-packages (from phik<0.13,>=0.11.1->ydata-profiling) (1.4.2)\r\n",
      "Requirement already satisfied: annotated-types>=0.6.0 in /usr/local/lib/python3.10/dist-packages (from pydantic>=2->ydata-profiling) (0.7.0)\r\n",
      "Requirement already satisfied: pydantic-core==2.29.0 in /usr/local/lib/python3.10/dist-packages (from pydantic>=2->ydata-profiling) (2.29.0)\r\n",
      "Requirement already satisfied: typing-extensions>=4.12.2 in /usr/local/lib/python3.10/dist-packages (from pydantic>=2->ydata-profiling) (4.12.2)\r\n",
      "Requirement already satisfied: charset-normalizer<4,>=2 in /usr/local/lib/python3.10/dist-packages (from requests<3,>=2.24.0->ydata-profiling) (3.4.1)\r\n",
      "Requirement already satisfied: idna<4,>=2.5 in /usr/local/lib/python3.10/dist-packages (from requests<3,>=2.24.0->ydata-profiling) (3.10)\r\n",
      "Requirement already satisfied: urllib3<3,>=1.21.1 in /usr/local/lib/python3.10/dist-packages (from requests<3,>=2.24.0->ydata-profiling) (2.3.0)\r\n",
      "Requirement already satisfied: certifi>=2017.4.17 in /usr/local/lib/python3.10/dist-packages (from requests<3,>=2.24.0->ydata-profiling) (2025.1.31)\r\n",
      "Requirement already satisfied: patsy>=0.5.6 in /usr/local/lib/python3.10/dist-packages (from statsmodels<1,>=0.13.2->ydata-profiling) (1.0.1)\r\n",
      "Requirement already satisfied: attrs>=19.3.0 in /usr/local/lib/python3.10/dist-packages (from visions<0.8.0,>=0.7.5->visions[type_image_path]<0.8.0,>=0.7.5->ydata-profiling) (25.1.0)\r\n",
      "Requirement already satisfied: networkx>=2.4 in /usr/local/lib/python3.10/dist-packages (from visions<0.8.0,>=0.7.5->visions[type_image_path]<0.8.0,>=0.7.5->ydata-profiling) (3.4.2)\r\n",
      "Requirement already satisfied: six>=1.5 in /usr/local/lib/python3.10/dist-packages (from python-dateutil>=2.7->matplotlib>=3.5->ydata-profiling) (1.17.0)\r\n",
      "Requirement already satisfied: intel-openmp>=2024 in /usr/local/lib/python3.10/dist-packages (from mkl->numpy<2.2,>=1.16.0->ydata-profiling) (2024.2.0)\r\n",
      "Requirement already satisfied: tbb==2022.* in /usr/local/lib/python3.10/dist-packages (from mkl->numpy<2.2,>=1.16.0->ydata-profiling) (2022.0.0)\r\n",
      "Requirement already satisfied: tcmlib==1.* in /usr/local/lib/python3.10/dist-packages (from tbb==2022.*->mkl->numpy<2.2,>=1.16.0->ydata-profiling) (1.2.0)\r\n",
      "Requirement already satisfied: intel-cmplr-lib-rt in /usr/local/lib/python3.10/dist-packages (from mkl_umath->numpy<2.2,>=1.16.0->ydata-profiling) (2024.2.0)\r\n",
      "Requirement already satisfied: intel-cmplr-lib-ur==2024.2.0 in /usr/local/lib/python3.10/dist-packages (from intel-openmp>=2024->mkl->numpy<2.2,>=1.16.0->ydata-profiling) (2024.2.0)\r\n"
     ]
    }
   ],
   "source": [
    "!pip install ydata-profiling"
   ]
  },
  {
   "cell_type": "code",
   "execution_count": 2,
   "id": "0a0d9b55",
   "metadata": {
    "execution": {
     "iopub.execute_input": "2025-03-12T08:59:58.935520Z",
     "iopub.status.busy": "2025-03-12T08:59:58.935093Z",
     "iopub.status.idle": "2025-03-12T08:59:59.944588Z",
     "shell.execute_reply": "2025-03-12T08:59:59.943668Z"
    },
    "papermill": {
     "duration": 1.021231,
     "end_time": "2025-03-12T08:59:59.946548",
     "exception": false,
     "start_time": "2025-03-12T08:59:58.925317",
     "status": "completed"
    },
    "tags": []
   },
   "outputs": [],
   "source": [
    "import numpy as np\n",
    "import pandas as pd\n",
    "import ast\n",
    "\n",
    "import warnings\n",
    "warnings.filterwarnings('ignore')"
   ]
  },
  {
   "cell_type": "markdown",
   "id": "4e7b3fcb",
   "metadata": {
    "papermill": {
     "duration": 0.008843,
     "end_time": "2025-03-12T08:59:59.964215",
     "exception": false,
     "start_time": "2025-03-12T08:59:59.955372",
     "status": "completed"
    },
    "tags": []
   },
   "source": [
    "## Basic Info about data frame"
   ]
  },
  {
   "cell_type": "code",
   "execution_count": 3,
   "id": "a614d399",
   "metadata": {
    "execution": {
     "iopub.execute_input": "2025-03-12T08:59:59.982778Z",
     "iopub.status.busy": "2025-03-12T08:59:59.982203Z",
     "iopub.status.idle": "2025-03-12T08:59:59.987381Z",
     "shell.execute_reply": "2025-03-12T08:59:59.986384Z"
    },
    "papermill": {
     "duration": 0.016256,
     "end_time": "2025-03-12T08:59:59.989075",
     "exception": false,
     "start_time": "2025-03-12T08:59:59.972819",
     "status": "completed"
    },
    "tags": []
   },
   "outputs": [],
   "source": [
    "def displayDetails(df, name):\n",
    "    print(name)\n",
    "    print(df.sample(10), end='\\n\\n')\n",
    "\n",
    "    print(\"Columns:\")\n",
    "    print(df.columns, end='\\n\\n')\n",
    "\n",
    "    print(\"Info:\")\n",
    "    print(df.info(), end='\\n\\n')\n",
    "\n",
    "    print(\"Na values:\")\n",
    "    print(df.isna().sum(), end='\\n\\n')"
   ]
  },
  {
   "cell_type": "code",
   "execution_count": 4,
   "id": "0d96fbb6",
   "metadata": {
    "execution": {
     "iopub.execute_input": "2025-03-12T09:00:00.008399Z",
     "iopub.status.busy": "2025-03-12T09:00:00.007955Z",
     "iopub.status.idle": "2025-03-12T09:00:00.959490Z",
     "shell.execute_reply": "2025-03-12T09:00:00.958275Z"
    },
    "papermill": {
     "duration": 0.963847,
     "end_time": "2025-03-12T09:00:00.961789",
     "exception": false,
     "start_time": "2025-03-12T08:59:59.997942",
     "status": "completed"
    },
    "tags": []
   },
   "outputs": [],
   "source": [
    "df_movies = pd.read_csv('/kaggle/input/tmdb-movie-metadata/tmdb_5000_movies.csv')\n",
    "df_credits = pd.read_csv('/kaggle/input/tmdb-movie-metadata/tmdb_5000_credits.csv')"
   ]
  },
  {
   "cell_type": "code",
   "execution_count": 5,
   "id": "1ebcfb11",
   "metadata": {
    "execution": {
     "iopub.execute_input": "2025-03-12T09:00:00.981581Z",
     "iopub.status.busy": "2025-03-12T09:00:00.981193Z",
     "iopub.status.idle": "2025-03-12T09:00:01.038939Z",
     "shell.execute_reply": "2025-03-12T09:00:01.037069Z"
    },
    "papermill": {
     "duration": 0.069544,
     "end_time": "2025-03-12T09:00:01.040717",
     "exception": false,
     "start_time": "2025-03-12T09:00:00.971173",
     "status": "completed"
    },
    "tags": []
   },
   "outputs": [
    {
     "name": "stdout",
     "output_type": "stream",
     "text": [
      "Movies:\n",
      "        budget                                             genres  \\\n",
      "1618  30000000  [{\"id\": 53, \"name\": \"Thriller\"}, {\"id\": 80, \"n...   \n",
      "639   65000000                     [{\"id\": 35, \"name\": \"Comedy\"}]   \n",
      "2380   2700000  [{\"id\": 10749, \"name\": \"Romance\"}, {\"id\": 878,...   \n",
      "3465         0  [{\"id\": 35, \"name\": \"Comedy\"}, {\"id\": 18, \"nam...   \n",
      "4254         0           [{\"id\": 878, \"name\": \"Science Fiction\"}]   \n",
      "782   60000000  [{\"id\": 28, \"name\": \"Action\"}, {\"id\": 35, \"nam...   \n",
      "894   52000000  [{\"id\": 28, \"name\": \"Action\"}, {\"id\": 35, \"nam...   \n",
      "2280  19000000  [{\"id\": 18, \"name\": \"Drama\"}, {\"id\": 80, \"name...   \n",
      "1552  26000000                     [{\"id\": 35, \"name\": \"Comedy\"}]   \n",
      "2084  15000000  [{\"id\": 28, \"name\": \"Action\"}, {\"id\": 53, \"nam...   \n",
      "\n",
      "                                homepage      id  \\\n",
      "1618  http://www.sideeffectsmayvary.com/  109421   \n",
      "639                                  NaN   12133   \n",
      "2380                                 NaN   10017   \n",
      "3465                                 NaN   11191   \n",
      "4254                                 NaN  290370   \n",
      "782        http://www.mycityscreams.com/    8285   \n",
      "894                                  NaN   11817   \n",
      "2280                                 NaN   12150   \n",
      "1552                                 NaN    2925   \n",
      "2084                                 NaN    1946   \n",
      "\n",
      "                                               keywords original_language  \\\n",
      "1618  [{\"id\": 4373, \"name\": \"fraud\"}, {\"id\": 9665, \"...                en   \n",
      "639   [{\"id\": 1412, \"name\": \"becoming an adult\"}, {\"...                en   \n",
      "2380  [{\"id\": 255, \"name\": \"male nudity\"}, {\"id\": 29...                en   \n",
      "3465  [{\"id\": 10183, \"name\": \"independent film\"}, {\"...                en   \n",
      "4254  [{\"id\": 1442, \"name\": \"winter\"}, {\"id\": 1852, ...                en   \n",
      "782   [{\"id\": 1308, \"name\": \"secret identity\"}, {\"id...                en   \n",
      "894   [{\"id\": 345, \"name\": \"monk\"}, {\"id\": 960, \"nam...                en   \n",
      "2280  [{\"id\": 242, \"name\": \"new york\"}, {\"id\": 567, ...                en   \n",
      "1552  [{\"id\": 15160, \"name\": \"divorce\"}, {\"id\": 1806...                en   \n",
      "2084  [{\"id\": 282, \"name\": \"video game\"}, {\"id\": 215...                en   \n",
      "\n",
      "            original_title                                           overview  \\\n",
      "1618          Side Effects  A woman turns to prescription medication as a ...   \n",
      "639          Step Brothers  Brennan Huff and Dale Doback might be grown me...   \n",
      "2380            The Wraith  Packard Walsh and his motorized gang control a...   \n",
      "3465          Mystic Pizza  Three teenage girls come of age while working ...   \n",
      "4254          Mutant World  A decade after a disastrous meteor impact wipe...   \n",
      "782             The Spirit  Down these mean streets a man must come. A her...   \n",
      "894       Bulletproof Monk  A mysterious and immortal Tibetan kung fu mast...   \n",
      "2280           Sea of Love  Seen-it-all New York detective Frank Keller is...   \n",
      "1552  The First Wives Club  After years of helping their hubbies climb the...   \n",
      "2084              eXistenZ  A game designer on the run from assassins must...   \n",
      "\n",
      "      popularity                               production_companies  \\\n",
      "1618   48.237797  [{\"name\": \"Di Bonaventura Pictures\", \"id\": 435...   \n",
      "639    22.977983  [{\"name\": \"Columbia Pictures\", \"id\": 5}, {\"nam...   \n",
      "2380   10.476440  [{\"name\": \"New Century Entertainment Corporati...   \n",
      "3465    6.379933  [{\"name\": \"Night Light Films\", \"id\": 3344}, {\"...   \n",
      "4254    1.893697        [{\"name\": \"Nomadic Pictures\", \"id\": 12467}]   \n",
      "782    14.848560  [{\"name\": \"DC Comics\", \"id\": 429}, {\"name\": \"L...   \n",
      "894    15.207070  [{\"name\": \"Metro-Goldwyn-Mayer (MGM)\", \"id\": 8...   \n",
      "2280   11.473160  [{\"name\": \"Universal Pictures Corporation\", \"i...   \n",
      "1552   10.704596   [{\"name\": \"Scott Rudin Productions\", \"id\": 258}]   \n",
      "2084   21.928025  [{\"name\": \"Alliance Atlantis Communications\", ...   \n",
      "\n",
      "                                   production_countries release_date  \\\n",
      "1618  [{\"iso_3166_1\": \"US\", \"name\": \"United States o...   2013-02-07   \n",
      "639   [{\"iso_3166_1\": \"US\", \"name\": \"United States o...   2008-07-25   \n",
      "2380  [{\"iso_3166_1\": \"US\", \"name\": \"United States o...   1986-11-21   \n",
      "3465  [{\"iso_3166_1\": \"US\", \"name\": \"United States o...   1988-10-13   \n",
      "4254           [{\"iso_3166_1\": \"CA\", \"name\": \"Canada\"}]   2014-09-27   \n",
      "782   [{\"iso_3166_1\": \"US\", \"name\": \"United States o...   2008-12-25   \n",
      "894   [{\"iso_3166_1\": \"US\", \"name\": \"United States o...   2003-03-28   \n",
      "2280  [{\"iso_3166_1\": \"US\", \"name\": \"United States o...   1989-09-15   \n",
      "1552  [{\"iso_3166_1\": \"US\", \"name\": \"United States o...   1996-09-20   \n",
      "2084  [{\"iso_3166_1\": \"CA\", \"name\": \"Canada\"}, {\"iso...   1999-04-14   \n",
      "\n",
      "        revenue  runtime                                   spoken_languages  \\\n",
      "1618   63372757    106.0  [{\"iso_639_1\": \"en\", \"name\": \"English\"}, {\"iso...   \n",
      "639   128107642     98.0  [{\"iso_639_1\": \"en\", \"name\": \"English\"}, {\"iso...   \n",
      "2380    3500000     93.0           [{\"iso_639_1\": \"en\", \"name\": \"English\"}]   \n",
      "3465          0    104.0  [{\"iso_639_1\": \"en\", \"name\": \"English\"}, {\"iso...   \n",
      "4254    1500000     85.0                                                 []   \n",
      "782    39031337    103.0  [{\"iso_639_1\": \"en\", \"name\": \"English\"}, {\"iso...   \n",
      "894           0    104.0  [{\"iso_639_1\": \"en\", \"name\": \"English\"}, {\"iso...   \n",
      "2280  110879513    113.0           [{\"iso_639_1\": \"en\", \"name\": \"English\"}]   \n",
      "1552  116400000    102.0           [{\"iso_639_1\": \"en\", \"name\": \"English\"}]   \n",
      "2084    2856712     97.0           [{\"iso_639_1\": \"en\", \"name\": \"English\"}]   \n",
      "\n",
      "        status                                            tagline  \\\n",
      "1618  Released                     One pill can change your life.   \n",
      "639   Released                              They grow up so fast.   \n",
      "2380  Released                       He's not from around here...   \n",
      "3465  Released                   A Romantic Comedy With The Works   \n",
      "4254  Released                                                NaN   \n",
      "782   Released              I'm gonna kill you all kinds of dead.   \n",
      "894   Released  A power beyond measure requires a protector wi...   \n",
      "2280  Released          Deception is dangerous. Desire is deadly.   \n",
      "1552  Released                     Don't get mad. Get everything.   \n",
      "2084  Released                     Play it. Live it. Kill for it.   \n",
      "\n",
      "                     title  vote_average  vote_count  \n",
      "1618          Side Effects           6.4        1323  \n",
      "639          Step Brothers           6.5        1062  \n",
      "2380            The Wraith           5.9         108  \n",
      "3465          Mystic Pizza           5.9         123  \n",
      "4254          Mutant World           2.6           9  \n",
      "782             The Spirit           4.7         320  \n",
      "894       Bulletproof Monk           5.1         278  \n",
      "2280           Sea of Love           6.7         141  \n",
      "1552  The First Wives Club           6.5         166  \n",
      "2084              eXistenZ           6.7         475  \n",
      "\n",
      "Columns:\n",
      "Index(['budget', 'genres', 'homepage', 'id', 'keywords', 'original_language',\n",
      "       'original_title', 'overview', 'popularity', 'production_companies',\n",
      "       'production_countries', 'release_date', 'revenue', 'runtime',\n",
      "       'spoken_languages', 'status', 'tagline', 'title', 'vote_average',\n",
      "       'vote_count'],\n",
      "      dtype='object')\n",
      "\n",
      "Info:\n",
      "<class 'pandas.core.frame.DataFrame'>\n",
      "RangeIndex: 4803 entries, 0 to 4802\n",
      "Data columns (total 20 columns):\n",
      " #   Column                Non-Null Count  Dtype  \n",
      "---  ------                --------------  -----  \n",
      " 0   budget                4803 non-null   int64  \n",
      " 1   genres                4803 non-null   object \n",
      " 2   homepage              1712 non-null   object \n",
      " 3   id                    4803 non-null   int64  \n",
      " 4   keywords              4803 non-null   object \n",
      " 5   original_language     4803 non-null   object \n",
      " 6   original_title        4803 non-null   object \n",
      " 7   overview              4800 non-null   object \n",
      " 8   popularity            4803 non-null   float64\n",
      " 9   production_companies  4803 non-null   object \n",
      " 10  production_countries  4803 non-null   object \n",
      " 11  release_date          4802 non-null   object \n",
      " 12  revenue               4803 non-null   int64  \n",
      " 13  runtime               4801 non-null   float64\n",
      " 14  spoken_languages      4803 non-null   object \n",
      " 15  status                4803 non-null   object \n",
      " 16  tagline               3959 non-null   object \n",
      " 17  title                 4803 non-null   object \n",
      " 18  vote_average          4803 non-null   float64\n",
      " 19  vote_count            4803 non-null   int64  \n",
      "dtypes: float64(3), int64(4), object(13)\n",
      "memory usage: 750.6+ KB\n",
      "None\n",
      "\n",
      "Na values:\n",
      "budget                     0\n",
      "genres                     0\n",
      "homepage                3091\n",
      "id                         0\n",
      "keywords                   0\n",
      "original_language          0\n",
      "original_title             0\n",
      "overview                   3\n",
      "popularity                 0\n",
      "production_companies       0\n",
      "production_countries       0\n",
      "release_date               1\n",
      "revenue                    0\n",
      "runtime                    2\n",
      "spoken_languages           0\n",
      "status                     0\n",
      "tagline                  844\n",
      "title                      0\n",
      "vote_average               0\n",
      "vote_count                 0\n",
      "dtype: int64\n",
      "\n"
     ]
    }
   ],
   "source": [
    "displayDetails(df_movies, \"Movies:\")"
   ]
  },
  {
   "cell_type": "code",
   "execution_count": 6,
   "id": "b86bd838",
   "metadata": {
    "execution": {
     "iopub.execute_input": "2025-03-12T09:00:01.060033Z",
     "iopub.status.busy": "2025-03-12T09:00:01.059614Z",
     "iopub.status.idle": "2025-03-12T09:00:01.079016Z",
     "shell.execute_reply": "2025-03-12T09:00:01.077625Z"
    },
    "papermill": {
     "duration": 0.030888,
     "end_time": "2025-03-12T09:00:01.080797",
     "exception": false,
     "start_time": "2025-03-12T09:00:01.049909",
     "status": "completed"
    },
    "tags": []
   },
   "outputs": [
    {
     "name": "stdout",
     "output_type": "stream",
     "text": [
      "Credits:\n",
      "      movie_id                      title  \\\n",
      "595       8814                       Doom   \n",
      "3661     19615                  Flying By   \n",
      "2786      8952  I Love You Phillip Morris   \n",
      "258      77931               The Smurfs 2   \n",
      "4644    325123            Teeth and Blood   \n",
      "2583    254904           The November Man   \n",
      "2331     10934       Under the Tuscan Sun   \n",
      "4251     46729              Fetching Cody   \n",
      "2819     75674               Act of Valor   \n",
      "878       3683       Flags of Our Fathers   \n",
      "\n",
      "                                                   cast  \\\n",
      "595   [{\"cast_id\": 1, \"character\": \"Sarge\", \"credit_...   \n",
      "3661  [{\"cast_id\": 1, \"character\": \"George\", \"credit...   \n",
      "2786  [{\"cast_id\": 4, \"character\": \"Steven Russell\",...   \n",
      "258   [{\"cast_id\": 5, \"character\": \"Gargamel\", \"cred...   \n",
      "4644  [{\"cast_id\": 0, \"character\": \"Vincent Augustin...   \n",
      "2583  [{\"cast_id\": 4, \"character\": \"Peter H. Deverea...   \n",
      "2331  [{\"cast_id\": 1, \"character\": \"Frances\", \"credi...   \n",
      "4251  [{\"cast_id\": 7, \"character\": \"Art\", \"credit_id...   \n",
      "2819  [{\"cast_id\": 4, \"character\": \"Lisa Morales\", \"...   \n",
      "878   [{\"cast_id\": 7, \"character\": \"John 'Doc' Bradl...   \n",
      "\n",
      "                                                   crew  \n",
      "595   [{\"credit_id\": \"52fe44bac3a36847f80a6b37\", \"de...  \n",
      "3661                                                 []  \n",
      "2786  [{\"credit_id\": \"5584aac1c3a368503400193c\", \"de...  \n",
      "258   [{\"credit_id\": \"52fe4983c3a368484e12f5a3\", \"de...  \n",
      "4644                                                 []  \n",
      "2583  [{\"credit_id\": \"537d31a50e0a2611c800006a\", \"de...  \n",
      "2331  [{\"credit_id\": \"52fe43d49251416c7501fbe5\", \"de...  \n",
      "4251  [{\"credit_id\": \"54437c870e0a26633a00461d\", \"de...  \n",
      "2819  [{\"credit_id\": \"5392dbecc3a3686446001160\", \"de...  \n",
      "878   [{\"credit_id\": \"52fe43a2c3a36847f80637e9\", \"de...  \n",
      "\n",
      "Columns:\n",
      "Index(['movie_id', 'title', 'cast', 'crew'], dtype='object')\n",
      "\n",
      "Info:\n",
      "<class 'pandas.core.frame.DataFrame'>\n",
      "RangeIndex: 4803 entries, 0 to 4802\n",
      "Data columns (total 4 columns):\n",
      " #   Column    Non-Null Count  Dtype \n",
      "---  ------    --------------  ----- \n",
      " 0   movie_id  4803 non-null   int64 \n",
      " 1   title     4803 non-null   object\n",
      " 2   cast      4803 non-null   object\n",
      " 3   crew      4803 non-null   object\n",
      "dtypes: int64(1), object(3)\n",
      "memory usage: 150.2+ KB\n",
      "None\n",
      "\n",
      "Na values:\n",
      "movie_id    0\n",
      "title       0\n",
      "cast        0\n",
      "crew        0\n",
      "dtype: int64\n",
      "\n"
     ]
    }
   ],
   "source": [
    "displayDetails(df_credits, \"Credits:\")"
   ]
  },
  {
   "cell_type": "code",
   "execution_count": 7,
   "id": "931f4eff",
   "metadata": {
    "execution": {
     "iopub.execute_input": "2025-03-12T09:00:01.101527Z",
     "iopub.status.busy": "2025-03-12T09:00:01.101139Z",
     "iopub.status.idle": "2025-03-12T09:00:01.115308Z",
     "shell.execute_reply": "2025-03-12T09:00:01.113983Z"
    },
    "papermill": {
     "duration": 0.027011,
     "end_time": "2025-03-12T09:00:01.117377",
     "exception": false,
     "start_time": "2025-03-12T09:00:01.090366",
     "status": "completed"
    },
    "tags": []
   },
   "outputs": [
    {
     "data": {
      "text/plain": [
       "spoken_languages\n",
       "[{\"iso_639_1\": \"en\", \"name\": \"English\"}]                                                                                                                                                                                                                                                                                                                                           3171\n",
       "[{\"iso_639_1\": \"en\", \"name\": \"English\"}, {\"iso_639_1\": \"es\", \"name\": \"Espa\\u00f1ol\"}]                                                                                                                                                                                                                                                                                               127\n",
       "[{\"iso_639_1\": \"en\", \"name\": \"English\"}, {\"iso_639_1\": \"fr\", \"name\": \"Fran\\u00e7ais\"}]                                                                                                                                                                                                                                                                                              114\n",
       "[]                                                                                                                                                                                                                                                                                                                                                                                   86\n",
       "[{\"iso_639_1\": \"es\", \"name\": \"Espa\\u00f1ol\"}, {\"iso_639_1\": \"en\", \"name\": \"English\"}]                                                                                                                                                                                                                                                                                                54\n",
       "                                                                                                                                                                                                                                                                                                                                                                                   ... \n",
       "[{\"iso_639_1\": \"en\", \"name\": \"English\"}, {\"iso_639_1\": \"pl\", \"name\": \"Polski\"}, {\"iso_639_1\": \"pt\", \"name\": \"Portugu\\u00eas\"}]                                                                                                                                                                                                                                                        1\n",
       "[{\"iso_639_1\": \"en\", \"name\": \"English\"}, {\"iso_639_1\": \"es\", \"name\": \"Espa\\u00f1ol\"}, {\"iso_639_1\": \"ru\", \"name\": \"P\\u0443\\u0441\\u0441\\u043a\\u0438\\u0439\"}]                                                                                                                                                                                                                           1\n",
       "[{\"iso_639_1\": \"en\", \"name\": \"English\"}, {\"iso_639_1\": \"ar\", \"name\": \"\\u0627\\u0644\\u0639\\u0631\\u0628\\u064a\\u0629\"}, {\"iso_639_1\": \"fr\", \"name\": \"Fran\\u00e7ais\"}, {\"iso_639_1\": \"de\", \"name\": \"Deutsch\"}, {\"iso_639_1\": \"ru\", \"name\": \"P\\u0443\\u0441\\u0441\\u043a\\u0438\\u0439\"}, {\"iso_639_1\": \"cs\", \"name\": \"\\u010cesk\\u00fd\"}, {\"iso_639_1\": \"sk\", \"name\": \"Sloven\\u010dina\"}]       1\n",
       "[{\"iso_639_1\": \"en\", \"name\": \"English\"}, {\"iso_639_1\": \"de\", \"name\": \"Deutsch\"}, {\"iso_639_1\": \"tr\", \"name\": \"T\\u00fcrk\\u00e7e\"}, {\"iso_639_1\": \"ar\", \"name\": \"\\u0627\\u0644\\u0639\\u0631\\u0628\\u064a\\u0629\"}]                                                                                                                                                                          1\n",
       "[{\"iso_639_1\": \"en\", \"name\": \"English\"}, {\"iso_639_1\": \"de\", \"name\": \"Deutsch\"}, {\"iso_639_1\": \"mn\", \"name\": \"\"}]                                                                                                                                                                                                                                                                     1\n",
       "Name: count, Length: 544, dtype: int64"
      ]
     },
     "execution_count": 7,
     "metadata": {},
     "output_type": "execute_result"
    }
   ],
   "source": [
    "'''\n",
    "['budget', 'genres', 'homepage', 'id', 'keywords', 'original_language',\n",
    "       'original_title', 'overview', 'popularity', 'production_companies',\n",
    "       'production_countries', 'release_date', 'revenue', 'runtime',\n",
    "       'spoken_languages', 'status', 'tagline', 'title', 'vote_average',\n",
    "       'vote_count']\n",
    "'''\n",
    "\n",
    "df_movies['original_language'].value_counts()\n",
    "df_movies['production_countries'].value_counts()\n",
    "df_movies['spoken_languages'].value_counts()"
   ]
  },
  {
   "cell_type": "markdown",
   "id": "6278f121",
   "metadata": {
    "papermill": {
     "duration": 0.008717,
     "end_time": "2025-03-12T09:00:01.135524",
     "exception": false,
     "start_time": "2025-03-12T09:00:01.126807",
     "status": "completed"
    },
    "tags": []
   },
   "source": [
    "## Feature Selection and Engineering"
   ]
  },
  {
   "cell_type": "code",
   "execution_count": 8,
   "id": "2100aec0",
   "metadata": {
    "execution": {
     "iopub.execute_input": "2025-03-12T09:00:01.155015Z",
     "iopub.status.busy": "2025-03-12T09:00:01.154597Z",
     "iopub.status.idle": "2025-03-12T09:00:01.176981Z",
     "shell.execute_reply": "2025-03-12T09:00:01.175872Z"
    },
    "papermill": {
     "duration": 0.034076,
     "end_time": "2025-03-12T09:00:01.178728",
     "exception": false,
     "start_time": "2025-03-12T09:00:01.144652",
     "status": "completed"
    },
    "tags": []
   },
   "outputs": [
    {
     "data": {
      "text/html": [
       "<div>\n",
       "<style scoped>\n",
       "    .dataframe tbody tr th:only-of-type {\n",
       "        vertical-align: middle;\n",
       "    }\n",
       "\n",
       "    .dataframe tbody tr th {\n",
       "        vertical-align: top;\n",
       "    }\n",
       "\n",
       "    .dataframe thead th {\n",
       "        text-align: right;\n",
       "    }\n",
       "</style>\n",
       "<table border=\"1\" class=\"dataframe\">\n",
       "  <thead>\n",
       "    <tr style=\"text-align: right;\">\n",
       "      <th></th>\n",
       "      <th>id</th>\n",
       "      <th>title</th>\n",
       "      <th>genres</th>\n",
       "      <th>keywords</th>\n",
       "      <th>overview</th>\n",
       "      <th>vote_average</th>\n",
       "      <th>vote_count</th>\n",
       "    </tr>\n",
       "  </thead>\n",
       "  <tbody>\n",
       "    <tr>\n",
       "      <th>0</th>\n",
       "      <td>19995</td>\n",
       "      <td>Avatar</td>\n",
       "      <td>[{\"id\": 28, \"name\": \"Action\"}, {\"id\": 12, \"nam...</td>\n",
       "      <td>[{\"id\": 1463, \"name\": \"culture clash\"}, {\"id\":...</td>\n",
       "      <td>In the 22nd century, a paraplegic Marine is di...</td>\n",
       "      <td>7.2</td>\n",
       "      <td>11800</td>\n",
       "    </tr>\n",
       "    <tr>\n",
       "      <th>1</th>\n",
       "      <td>285</td>\n",
       "      <td>Pirates of the Caribbean: At World's End</td>\n",
       "      <td>[{\"id\": 12, \"name\": \"Adventure\"}, {\"id\": 14, \"...</td>\n",
       "      <td>[{\"id\": 270, \"name\": \"ocean\"}, {\"id\": 726, \"na...</td>\n",
       "      <td>Captain Barbossa, long believed to be dead, ha...</td>\n",
       "      <td>6.9</td>\n",
       "      <td>4500</td>\n",
       "    </tr>\n",
       "    <tr>\n",
       "      <th>2</th>\n",
       "      <td>206647</td>\n",
       "      <td>Spectre</td>\n",
       "      <td>[{\"id\": 28, \"name\": \"Action\"}, {\"id\": 12, \"nam...</td>\n",
       "      <td>[{\"id\": 470, \"name\": \"spy\"}, {\"id\": 818, \"name...</td>\n",
       "      <td>A cryptic message from Bond’s past sends him o...</td>\n",
       "      <td>6.3</td>\n",
       "      <td>4466</td>\n",
       "    </tr>\n",
       "    <tr>\n",
       "      <th>3</th>\n",
       "      <td>49026</td>\n",
       "      <td>The Dark Knight Rises</td>\n",
       "      <td>[{\"id\": 28, \"name\": \"Action\"}, {\"id\": 80, \"nam...</td>\n",
       "      <td>[{\"id\": 849, \"name\": \"dc comics\"}, {\"id\": 853,...</td>\n",
       "      <td>Following the death of District Attorney Harve...</td>\n",
       "      <td>7.6</td>\n",
       "      <td>9106</td>\n",
       "    </tr>\n",
       "    <tr>\n",
       "      <th>4</th>\n",
       "      <td>49529</td>\n",
       "      <td>John Carter</td>\n",
       "      <td>[{\"id\": 28, \"name\": \"Action\"}, {\"id\": 12, \"nam...</td>\n",
       "      <td>[{\"id\": 818, \"name\": \"based on novel\"}, {\"id\":...</td>\n",
       "      <td>John Carter is a war-weary, former military ca...</td>\n",
       "      <td>6.1</td>\n",
       "      <td>2124</td>\n",
       "    </tr>\n",
       "  </tbody>\n",
       "</table>\n",
       "</div>"
      ],
      "text/plain": [
       "       id                                     title  \\\n",
       "0   19995                                    Avatar   \n",
       "1     285  Pirates of the Caribbean: At World's End   \n",
       "2  206647                                   Spectre   \n",
       "3   49026                     The Dark Knight Rises   \n",
       "4   49529                               John Carter   \n",
       "\n",
       "                                              genres  \\\n",
       "0  [{\"id\": 28, \"name\": \"Action\"}, {\"id\": 12, \"nam...   \n",
       "1  [{\"id\": 12, \"name\": \"Adventure\"}, {\"id\": 14, \"...   \n",
       "2  [{\"id\": 28, \"name\": \"Action\"}, {\"id\": 12, \"nam...   \n",
       "3  [{\"id\": 28, \"name\": \"Action\"}, {\"id\": 80, \"nam...   \n",
       "4  [{\"id\": 28, \"name\": \"Action\"}, {\"id\": 12, \"nam...   \n",
       "\n",
       "                                            keywords  \\\n",
       "0  [{\"id\": 1463, \"name\": \"culture clash\"}, {\"id\":...   \n",
       "1  [{\"id\": 270, \"name\": \"ocean\"}, {\"id\": 726, \"na...   \n",
       "2  [{\"id\": 470, \"name\": \"spy\"}, {\"id\": 818, \"name...   \n",
       "3  [{\"id\": 849, \"name\": \"dc comics\"}, {\"id\": 853,...   \n",
       "4  [{\"id\": 818, \"name\": \"based on novel\"}, {\"id\":...   \n",
       "\n",
       "                                            overview  vote_average  vote_count  \n",
       "0  In the 22nd century, a paraplegic Marine is di...           7.2       11800  \n",
       "1  Captain Barbossa, long believed to be dead, ha...           6.9        4500  \n",
       "2  A cryptic message from Bond’s past sends him o...           6.3        4466  \n",
       "3  Following the death of District Attorney Harve...           7.6        9106  \n",
       "4  John Carter is a war-weary, former military ca...           6.1        2124  "
      ]
     },
     "execution_count": 8,
     "metadata": {},
     "output_type": "execute_result"
    }
   ],
   "source": [
    "# english language and US country is max, so remove the columns\n",
    "df_movies = df_movies[['id', 'title', 'genres', 'keywords', 'overview', 'vote_average', 'vote_count']]\n",
    "\n",
    "df_movies.head()"
   ]
  },
  {
   "cell_type": "code",
   "execution_count": 9,
   "id": "1e78d729",
   "metadata": {
    "execution": {
     "iopub.execute_input": "2025-03-12T09:00:01.199547Z",
     "iopub.status.busy": "2025-03-12T09:00:01.199157Z",
     "iopub.status.idle": "2025-03-12T09:00:01.212090Z",
     "shell.execute_reply": "2025-03-12T09:00:01.211113Z"
    },
    "papermill": {
     "duration": 0.025336,
     "end_time": "2025-03-12T09:00:01.213766",
     "exception": false,
     "start_time": "2025-03-12T09:00:01.188430",
     "status": "completed"
    },
    "tags": []
   },
   "outputs": [
    {
     "data": {
      "text/html": [
       "<div>\n",
       "<style scoped>\n",
       "    .dataframe tbody tr th:only-of-type {\n",
       "        vertical-align: middle;\n",
       "    }\n",
       "\n",
       "    .dataframe tbody tr th {\n",
       "        vertical-align: top;\n",
       "    }\n",
       "\n",
       "    .dataframe thead th {\n",
       "        text-align: right;\n",
       "    }\n",
       "</style>\n",
       "<table border=\"1\" class=\"dataframe\">\n",
       "  <thead>\n",
       "    <tr style=\"text-align: right;\">\n",
       "      <th></th>\n",
       "      <th>id</th>\n",
       "      <th>cast</th>\n",
       "      <th>crew</th>\n",
       "    </tr>\n",
       "  </thead>\n",
       "  <tbody>\n",
       "    <tr>\n",
       "      <th>0</th>\n",
       "      <td>19995</td>\n",
       "      <td>[{\"cast_id\": 242, \"character\": \"Jake Sully\", \"...</td>\n",
       "      <td>[{\"credit_id\": \"52fe48009251416c750aca23\", \"de...</td>\n",
       "    </tr>\n",
       "    <tr>\n",
       "      <th>1</th>\n",
       "      <td>285</td>\n",
       "      <td>[{\"cast_id\": 4, \"character\": \"Captain Jack Spa...</td>\n",
       "      <td>[{\"credit_id\": \"52fe4232c3a36847f800b579\", \"de...</td>\n",
       "    </tr>\n",
       "    <tr>\n",
       "      <th>2</th>\n",
       "      <td>206647</td>\n",
       "      <td>[{\"cast_id\": 1, \"character\": \"James Bond\", \"cr...</td>\n",
       "      <td>[{\"credit_id\": \"54805967c3a36829b5002c41\", \"de...</td>\n",
       "    </tr>\n",
       "    <tr>\n",
       "      <th>3</th>\n",
       "      <td>49026</td>\n",
       "      <td>[{\"cast_id\": 2, \"character\": \"Bruce Wayne / Ba...</td>\n",
       "      <td>[{\"credit_id\": \"52fe4781c3a36847f81398c3\", \"de...</td>\n",
       "    </tr>\n",
       "    <tr>\n",
       "      <th>4</th>\n",
       "      <td>49529</td>\n",
       "      <td>[{\"cast_id\": 5, \"character\": \"John Carter\", \"c...</td>\n",
       "      <td>[{\"credit_id\": \"52fe479ac3a36847f813eaa3\", \"de...</td>\n",
       "    </tr>\n",
       "  </tbody>\n",
       "</table>\n",
       "</div>"
      ],
      "text/plain": [
       "       id                                               cast  \\\n",
       "0   19995  [{\"cast_id\": 242, \"character\": \"Jake Sully\", \"...   \n",
       "1     285  [{\"cast_id\": 4, \"character\": \"Captain Jack Spa...   \n",
       "2  206647  [{\"cast_id\": 1, \"character\": \"James Bond\", \"cr...   \n",
       "3   49026  [{\"cast_id\": 2, \"character\": \"Bruce Wayne / Ba...   \n",
       "4   49529  [{\"cast_id\": 5, \"character\": \"John Carter\", \"c...   \n",
       "\n",
       "                                                crew  \n",
       "0  [{\"credit_id\": \"52fe48009251416c750aca23\", \"de...  \n",
       "1  [{\"credit_id\": \"52fe4232c3a36847f800b579\", \"de...  \n",
       "2  [{\"credit_id\": \"54805967c3a36829b5002c41\", \"de...  \n",
       "3  [{\"credit_id\": \"52fe4781c3a36847f81398c3\", \"de...  \n",
       "4  [{\"credit_id\": \"52fe479ac3a36847f813eaa3\", \"de...  "
      ]
     },
     "execution_count": 9,
     "metadata": {},
     "output_type": "execute_result"
    }
   ],
   "source": [
    "credits_req = df_credits[['movie_id', 'cast', 'crew']]\n",
    "credits_req.rename(columns={'movie_id': 'id'}, inplace=True)\n",
    "credits_req.head()"
   ]
  },
  {
   "cell_type": "markdown",
   "id": "b11125d5",
   "metadata": {
    "papermill": {
     "duration": 0.009359,
     "end_time": "2025-03-12T09:00:01.232805",
     "exception": false,
     "start_time": "2025-03-12T09:00:01.223446",
     "status": "completed"
    },
    "tags": []
   },
   "source": [
    "#### joining the two data frames"
   ]
  },
  {
   "cell_type": "code",
   "execution_count": 10,
   "id": "d05df7d2",
   "metadata": {
    "execution": {
     "iopub.execute_input": "2025-03-12T09:00:01.253430Z",
     "iopub.status.busy": "2025-03-12T09:00:01.253071Z",
     "iopub.status.idle": "2025-03-12T09:00:01.275282Z",
     "shell.execute_reply": "2025-03-12T09:00:01.274172Z"
    },
    "papermill": {
     "duration": 0.034633,
     "end_time": "2025-03-12T09:00:01.277057",
     "exception": false,
     "start_time": "2025-03-12T09:00:01.242424",
     "status": "completed"
    },
    "tags": []
   },
   "outputs": [
    {
     "data": {
      "text/html": [
       "<div>\n",
       "<style scoped>\n",
       "    .dataframe tbody tr th:only-of-type {\n",
       "        vertical-align: middle;\n",
       "    }\n",
       "\n",
       "    .dataframe tbody tr th {\n",
       "        vertical-align: top;\n",
       "    }\n",
       "\n",
       "    .dataframe thead th {\n",
       "        text-align: right;\n",
       "    }\n",
       "</style>\n",
       "<table border=\"1\" class=\"dataframe\">\n",
       "  <thead>\n",
       "    <tr style=\"text-align: right;\">\n",
       "      <th></th>\n",
       "      <th>id</th>\n",
       "      <th>title</th>\n",
       "      <th>genres</th>\n",
       "      <th>keywords</th>\n",
       "      <th>overview</th>\n",
       "      <th>vote_average</th>\n",
       "      <th>vote_count</th>\n",
       "      <th>cast</th>\n",
       "      <th>crew</th>\n",
       "    </tr>\n",
       "  </thead>\n",
       "  <tbody>\n",
       "    <tr>\n",
       "      <th>0</th>\n",
       "      <td>19995</td>\n",
       "      <td>Avatar</td>\n",
       "      <td>[{\"id\": 28, \"name\": \"Action\"}, {\"id\": 12, \"nam...</td>\n",
       "      <td>[{\"id\": 1463, \"name\": \"culture clash\"}, {\"id\":...</td>\n",
       "      <td>In the 22nd century, a paraplegic Marine is di...</td>\n",
       "      <td>7.2</td>\n",
       "      <td>11800</td>\n",
       "      <td>[{\"cast_id\": 242, \"character\": \"Jake Sully\", \"...</td>\n",
       "      <td>[{\"credit_id\": \"52fe48009251416c750aca23\", \"de...</td>\n",
       "    </tr>\n",
       "    <tr>\n",
       "      <th>1</th>\n",
       "      <td>285</td>\n",
       "      <td>Pirates of the Caribbean: At World's End</td>\n",
       "      <td>[{\"id\": 12, \"name\": \"Adventure\"}, {\"id\": 14, \"...</td>\n",
       "      <td>[{\"id\": 270, \"name\": \"ocean\"}, {\"id\": 726, \"na...</td>\n",
       "      <td>Captain Barbossa, long believed to be dead, ha...</td>\n",
       "      <td>6.9</td>\n",
       "      <td>4500</td>\n",
       "      <td>[{\"cast_id\": 4, \"character\": \"Captain Jack Spa...</td>\n",
       "      <td>[{\"credit_id\": \"52fe4232c3a36847f800b579\", \"de...</td>\n",
       "    </tr>\n",
       "    <tr>\n",
       "      <th>2</th>\n",
       "      <td>206647</td>\n",
       "      <td>Spectre</td>\n",
       "      <td>[{\"id\": 28, \"name\": \"Action\"}, {\"id\": 12, \"nam...</td>\n",
       "      <td>[{\"id\": 470, \"name\": \"spy\"}, {\"id\": 818, \"name...</td>\n",
       "      <td>A cryptic message from Bond’s past sends him o...</td>\n",
       "      <td>6.3</td>\n",
       "      <td>4466</td>\n",
       "      <td>[{\"cast_id\": 1, \"character\": \"James Bond\", \"cr...</td>\n",
       "      <td>[{\"credit_id\": \"54805967c3a36829b5002c41\", \"de...</td>\n",
       "    </tr>\n",
       "    <tr>\n",
       "      <th>3</th>\n",
       "      <td>49026</td>\n",
       "      <td>The Dark Knight Rises</td>\n",
       "      <td>[{\"id\": 28, \"name\": \"Action\"}, {\"id\": 80, \"nam...</td>\n",
       "      <td>[{\"id\": 849, \"name\": \"dc comics\"}, {\"id\": 853,...</td>\n",
       "      <td>Following the death of District Attorney Harve...</td>\n",
       "      <td>7.6</td>\n",
       "      <td>9106</td>\n",
       "      <td>[{\"cast_id\": 2, \"character\": \"Bruce Wayne / Ba...</td>\n",
       "      <td>[{\"credit_id\": \"52fe4781c3a36847f81398c3\", \"de...</td>\n",
       "    </tr>\n",
       "    <tr>\n",
       "      <th>4</th>\n",
       "      <td>49529</td>\n",
       "      <td>John Carter</td>\n",
       "      <td>[{\"id\": 28, \"name\": \"Action\"}, {\"id\": 12, \"nam...</td>\n",
       "      <td>[{\"id\": 818, \"name\": \"based on novel\"}, {\"id\":...</td>\n",
       "      <td>John Carter is a war-weary, former military ca...</td>\n",
       "      <td>6.1</td>\n",
       "      <td>2124</td>\n",
       "      <td>[{\"cast_id\": 5, \"character\": \"John Carter\", \"c...</td>\n",
       "      <td>[{\"credit_id\": \"52fe479ac3a36847f813eaa3\", \"de...</td>\n",
       "    </tr>\n",
       "  </tbody>\n",
       "</table>\n",
       "</div>"
      ],
      "text/plain": [
       "       id                                     title  \\\n",
       "0   19995                                    Avatar   \n",
       "1     285  Pirates of the Caribbean: At World's End   \n",
       "2  206647                                   Spectre   \n",
       "3   49026                     The Dark Knight Rises   \n",
       "4   49529                               John Carter   \n",
       "\n",
       "                                              genres  \\\n",
       "0  [{\"id\": 28, \"name\": \"Action\"}, {\"id\": 12, \"nam...   \n",
       "1  [{\"id\": 12, \"name\": \"Adventure\"}, {\"id\": 14, \"...   \n",
       "2  [{\"id\": 28, \"name\": \"Action\"}, {\"id\": 12, \"nam...   \n",
       "3  [{\"id\": 28, \"name\": \"Action\"}, {\"id\": 80, \"nam...   \n",
       "4  [{\"id\": 28, \"name\": \"Action\"}, {\"id\": 12, \"nam...   \n",
       "\n",
       "                                            keywords  \\\n",
       "0  [{\"id\": 1463, \"name\": \"culture clash\"}, {\"id\":...   \n",
       "1  [{\"id\": 270, \"name\": \"ocean\"}, {\"id\": 726, \"na...   \n",
       "2  [{\"id\": 470, \"name\": \"spy\"}, {\"id\": 818, \"name...   \n",
       "3  [{\"id\": 849, \"name\": \"dc comics\"}, {\"id\": 853,...   \n",
       "4  [{\"id\": 818, \"name\": \"based on novel\"}, {\"id\":...   \n",
       "\n",
       "                                            overview  vote_average  \\\n",
       "0  In the 22nd century, a paraplegic Marine is di...           7.2   \n",
       "1  Captain Barbossa, long believed to be dead, ha...           6.9   \n",
       "2  A cryptic message from Bond’s past sends him o...           6.3   \n",
       "3  Following the death of District Attorney Harve...           7.6   \n",
       "4  John Carter is a war-weary, former military ca...           6.1   \n",
       "\n",
       "   vote_count                                               cast  \\\n",
       "0       11800  [{\"cast_id\": 242, \"character\": \"Jake Sully\", \"...   \n",
       "1        4500  [{\"cast_id\": 4, \"character\": \"Captain Jack Spa...   \n",
       "2        4466  [{\"cast_id\": 1, \"character\": \"James Bond\", \"cr...   \n",
       "3        9106  [{\"cast_id\": 2, \"character\": \"Bruce Wayne / Ba...   \n",
       "4        2124  [{\"cast_id\": 5, \"character\": \"John Carter\", \"c...   \n",
       "\n",
       "                                                crew  \n",
       "0  [{\"credit_id\": \"52fe48009251416c750aca23\", \"de...  \n",
       "1  [{\"credit_id\": \"52fe4232c3a36847f800b579\", \"de...  \n",
       "2  [{\"credit_id\": \"54805967c3a36829b5002c41\", \"de...  \n",
       "3  [{\"credit_id\": \"52fe4781c3a36847f81398c3\", \"de...  \n",
       "4  [{\"credit_id\": \"52fe479ac3a36847f813eaa3\", \"de...  "
      ]
     },
     "execution_count": 10,
     "metadata": {},
     "output_type": "execute_result"
    }
   ],
   "source": [
    "movies = df_movies.merge(credits_req, on='id', how='inner')\n",
    "\n",
    "movies.head()"
   ]
  },
  {
   "cell_type": "code",
   "execution_count": 11,
   "id": "5f0fe062",
   "metadata": {
    "execution": {
     "iopub.execute_input": "2025-03-12T09:00:01.298318Z",
     "iopub.status.busy": "2025-03-12T09:00:01.297932Z",
     "iopub.status.idle": "2025-03-12T09:00:01.306476Z",
     "shell.execute_reply": "2025-03-12T09:00:01.305337Z"
    },
    "papermill": {
     "duration": 0.021228,
     "end_time": "2025-03-12T09:00:01.308221",
     "exception": false,
     "start_time": "2025-03-12T09:00:01.286993",
     "status": "completed"
    },
    "tags": []
   },
   "outputs": [],
   "source": [
    "movies = movies.dropna(subset=['overview'])"
   ]
  },
  {
   "cell_type": "markdown",
   "id": "92a59388",
   "metadata": {
    "papermill": {
     "duration": 0.009931,
     "end_time": "2025-03-12T09:00:01.328421",
     "exception": false,
     "start_time": "2025-03-12T09:00:01.318490",
     "status": "completed"
    },
    "tags": []
   },
   "source": [
    "convert the dictionary into list format for easier access and joins`"
   ]
  },
  {
   "cell_type": "code",
   "execution_count": 12,
   "id": "2f5e165f",
   "metadata": {
    "execution": {
     "iopub.execute_input": "2025-03-12T09:00:01.349859Z",
     "iopub.status.busy": "2025-03-12T09:00:01.349477Z",
     "iopub.status.idle": "2025-03-12T09:00:01.354258Z",
     "shell.execute_reply": "2025-03-12T09:00:01.353206Z"
    },
    "papermill": {
     "duration": 0.017578,
     "end_time": "2025-03-12T09:00:01.355962",
     "exception": false,
     "start_time": "2025-03-12T09:00:01.338384",
     "status": "completed"
    },
    "tags": []
   },
   "outputs": [],
   "source": [
    "# converting dictionary to list format\n",
    "def dict_to_list(obj):\n",
    "    list_obj = []\n",
    "\n",
    "    for i in ast.literal_eval(obj):\n",
    "        list_obj.append(i['name'])\n",
    "\n",
    "    return list_obj"
   ]
  },
  {
   "cell_type": "code",
   "execution_count": 13,
   "id": "c7299a33",
   "metadata": {
    "execution": {
     "iopub.execute_input": "2025-03-12T09:00:01.377140Z",
     "iopub.status.busy": "2025-03-12T09:00:01.376733Z",
     "iopub.status.idle": "2025-03-12T09:00:01.964395Z",
     "shell.execute_reply": "2025-03-12T09:00:01.963355Z"
    },
    "papermill": {
     "duration": 0.600456,
     "end_time": "2025-03-12T09:00:01.966374",
     "exception": false,
     "start_time": "2025-03-12T09:00:01.365918",
     "status": "completed"
    },
    "tags": []
   },
   "outputs": [],
   "source": [
    "movies['genres'] = movies['genres'].apply(dict_to_list)\n",
    "movies['keywords'] = movies['keywords'].apply(dict_to_list)"
   ]
  },
  {
   "cell_type": "code",
   "execution_count": 14,
   "id": "81ca26c4",
   "metadata": {
    "execution": {
     "iopub.execute_input": "2025-03-12T09:00:01.988221Z",
     "iopub.status.busy": "2025-03-12T09:00:01.987848Z",
     "iopub.status.idle": "2025-03-12T09:00:01.992901Z",
     "shell.execute_reply": "2025-03-12T09:00:01.991756Z"
    },
    "papermill": {
     "duration": 0.017752,
     "end_time": "2025-03-12T09:00:01.994528",
     "exception": false,
     "start_time": "2025-03-12T09:00:01.976776",
     "status": "completed"
    },
    "tags": []
   },
   "outputs": [],
   "source": [
    "# converting dictionary to list format\n",
    "def dict_to_list_cast(obj):\n",
    "    list_obj = []\n",
    "    \n",
    "    for i in ast.literal_eval(obj):\n",
    "        if (len(list_obj) <= 5):\n",
    "            list_obj.append(i['name'])\n",
    "        else:\n",
    "            break\n",
    "\n",
    "    return list_obj"
   ]
  },
  {
   "cell_type": "code",
   "execution_count": 15,
   "id": "b6715662",
   "metadata": {
    "execution": {
     "iopub.execute_input": "2025-03-12T09:00:02.016072Z",
     "iopub.status.busy": "2025-03-12T09:00:02.015658Z",
     "iopub.status.idle": "2025-03-12T09:00:05.185712Z",
     "shell.execute_reply": "2025-03-12T09:00:05.184706Z"
    },
    "papermill": {
     "duration": 3.182874,
     "end_time": "2025-03-12T09:00:05.187554",
     "exception": false,
     "start_time": "2025-03-12T09:00:02.004680",
     "status": "completed"
    },
    "tags": []
   },
   "outputs": [],
   "source": [
    "movies['cast'] = movies['cast'].apply(dict_to_list_cast)"
   ]
  },
  {
   "cell_type": "code",
   "execution_count": 16,
   "id": "c01fe249",
   "metadata": {
    "execution": {
     "iopub.execute_input": "2025-03-12T09:00:05.209520Z",
     "iopub.status.busy": "2025-03-12T09:00:05.209147Z",
     "iopub.status.idle": "2025-03-12T09:00:05.214273Z",
     "shell.execute_reply": "2025-03-12T09:00:05.213107Z"
    },
    "papermill": {
     "duration": 0.017979,
     "end_time": "2025-03-12T09:00:05.216341",
     "exception": false,
     "start_time": "2025-03-12T09:00:05.198362",
     "status": "completed"
    },
    "tags": []
   },
   "outputs": [],
   "source": [
    "# converting dictionary to list format\n",
    "def dict_to_list_crew(obj):\n",
    "    list_obj = []\n",
    "    \n",
    "    for i in ast.literal_eval(obj):\n",
    "        if (i['job'] == \"Director\"):\n",
    "            list_obj.append(i['name'])\n",
    "\n",
    "    return list_obj"
   ]
  },
  {
   "cell_type": "code",
   "execution_count": 17,
   "id": "7a576ff2",
   "metadata": {
    "execution": {
     "iopub.execute_input": "2025-03-12T09:00:05.238460Z",
     "iopub.status.busy": "2025-03-12T09:00:05.238106Z",
     "iopub.status.idle": "2025-03-12T09:00:08.807710Z",
     "shell.execute_reply": "2025-03-12T09:00:08.806800Z"
    },
    "papermill": {
     "duration": 3.582944,
     "end_time": "2025-03-12T09:00:08.809453",
     "exception": false,
     "start_time": "2025-03-12T09:00:05.226509",
     "status": "completed"
    },
    "tags": []
   },
   "outputs": [],
   "source": [
    "movies['crew'] = movies['crew'].apply(dict_to_list_crew)"
   ]
  },
  {
   "cell_type": "code",
   "execution_count": 18,
   "id": "5a9d53e8",
   "metadata": {
    "execution": {
     "iopub.execute_input": "2025-03-12T09:00:08.830792Z",
     "iopub.status.busy": "2025-03-12T09:00:08.830404Z",
     "iopub.status.idle": "2025-03-12T09:00:08.866935Z",
     "shell.execute_reply": "2025-03-12T09:00:08.865924Z"
    },
    "papermill": {
     "duration": 0.049223,
     "end_time": "2025-03-12T09:00:08.868742",
     "exception": false,
     "start_time": "2025-03-12T09:00:08.819519",
     "status": "completed"
    },
    "tags": []
   },
   "outputs": [],
   "source": [
    "movies['overview'] = movies['overview'].apply(lambda x:x.split())"
   ]
  },
  {
   "cell_type": "code",
   "execution_count": 19,
   "id": "da887088",
   "metadata": {
    "execution": {
     "iopub.execute_input": "2025-03-12T09:00:08.889947Z",
     "iopub.status.busy": "2025-03-12T09:00:08.889559Z",
     "iopub.status.idle": "2025-03-12T09:00:08.910293Z",
     "shell.execute_reply": "2025-03-12T09:00:08.909095Z"
    },
    "papermill": {
     "duration": 0.033296,
     "end_time": "2025-03-12T09:00:08.912085",
     "exception": false,
     "start_time": "2025-03-12T09:00:08.878789",
     "status": "completed"
    },
    "tags": []
   },
   "outputs": [
    {
     "data": {
      "text/html": [
       "<div>\n",
       "<style scoped>\n",
       "    .dataframe tbody tr th:only-of-type {\n",
       "        vertical-align: middle;\n",
       "    }\n",
       "\n",
       "    .dataframe tbody tr th {\n",
       "        vertical-align: top;\n",
       "    }\n",
       "\n",
       "    .dataframe thead th {\n",
       "        text-align: right;\n",
       "    }\n",
       "</style>\n",
       "<table border=\"1\" class=\"dataframe\">\n",
       "  <thead>\n",
       "    <tr style=\"text-align: right;\">\n",
       "      <th></th>\n",
       "      <th>id</th>\n",
       "      <th>title</th>\n",
       "      <th>genres</th>\n",
       "      <th>keywords</th>\n",
       "      <th>overview</th>\n",
       "      <th>vote_average</th>\n",
       "      <th>vote_count</th>\n",
       "      <th>cast</th>\n",
       "      <th>crew</th>\n",
       "    </tr>\n",
       "  </thead>\n",
       "  <tbody>\n",
       "    <tr>\n",
       "      <th>0</th>\n",
       "      <td>19995</td>\n",
       "      <td>Avatar</td>\n",
       "      <td>[Action, Adventure, Fantasy, Science Fiction]</td>\n",
       "      <td>[culture clash, future, space war, space colon...</td>\n",
       "      <td>[In, the, 22nd, century,, a, paraplegic, Marin...</td>\n",
       "      <td>7.2</td>\n",
       "      <td>11800</td>\n",
       "      <td>[Sam Worthington, Zoe Saldana, Sigourney Weave...</td>\n",
       "      <td>[James Cameron]</td>\n",
       "    </tr>\n",
       "    <tr>\n",
       "      <th>1</th>\n",
       "      <td>285</td>\n",
       "      <td>Pirates of the Caribbean: At World's End</td>\n",
       "      <td>[Adventure, Fantasy, Action]</td>\n",
       "      <td>[ocean, drug abuse, exotic island, east india ...</td>\n",
       "      <td>[Captain, Barbossa,, long, believed, to, be, d...</td>\n",
       "      <td>6.9</td>\n",
       "      <td>4500</td>\n",
       "      <td>[Johnny Depp, Orlando Bloom, Keira Knightley, ...</td>\n",
       "      <td>[Gore Verbinski]</td>\n",
       "    </tr>\n",
       "    <tr>\n",
       "      <th>2</th>\n",
       "      <td>206647</td>\n",
       "      <td>Spectre</td>\n",
       "      <td>[Action, Adventure, Crime]</td>\n",
       "      <td>[spy, based on novel, secret agent, sequel, mi...</td>\n",
       "      <td>[A, cryptic, message, from, Bond’s, past, send...</td>\n",
       "      <td>6.3</td>\n",
       "      <td>4466</td>\n",
       "      <td>[Daniel Craig, Christoph Waltz, Léa Seydoux, R...</td>\n",
       "      <td>[Sam Mendes]</td>\n",
       "    </tr>\n",
       "    <tr>\n",
       "      <th>3</th>\n",
       "      <td>49026</td>\n",
       "      <td>The Dark Knight Rises</td>\n",
       "      <td>[Action, Crime, Drama, Thriller]</td>\n",
       "      <td>[dc comics, crime fighter, terrorist, secret i...</td>\n",
       "      <td>[Following, the, death, of, District, Attorney...</td>\n",
       "      <td>7.6</td>\n",
       "      <td>9106</td>\n",
       "      <td>[Christian Bale, Michael Caine, Gary Oldman, A...</td>\n",
       "      <td>[Christopher Nolan]</td>\n",
       "    </tr>\n",
       "    <tr>\n",
       "      <th>4</th>\n",
       "      <td>49529</td>\n",
       "      <td>John Carter</td>\n",
       "      <td>[Action, Adventure, Science Fiction]</td>\n",
       "      <td>[based on novel, mars, medallion, space travel...</td>\n",
       "      <td>[John, Carter, is, a, war-weary,, former, mili...</td>\n",
       "      <td>6.1</td>\n",
       "      <td>2124</td>\n",
       "      <td>[Taylor Kitsch, Lynn Collins, Samantha Morton,...</td>\n",
       "      <td>[Andrew Stanton]</td>\n",
       "    </tr>\n",
       "  </tbody>\n",
       "</table>\n",
       "</div>"
      ],
      "text/plain": [
       "       id                                     title  \\\n",
       "0   19995                                    Avatar   \n",
       "1     285  Pirates of the Caribbean: At World's End   \n",
       "2  206647                                   Spectre   \n",
       "3   49026                     The Dark Knight Rises   \n",
       "4   49529                               John Carter   \n",
       "\n",
       "                                          genres  \\\n",
       "0  [Action, Adventure, Fantasy, Science Fiction]   \n",
       "1                   [Adventure, Fantasy, Action]   \n",
       "2                     [Action, Adventure, Crime]   \n",
       "3               [Action, Crime, Drama, Thriller]   \n",
       "4           [Action, Adventure, Science Fiction]   \n",
       "\n",
       "                                            keywords  \\\n",
       "0  [culture clash, future, space war, space colon...   \n",
       "1  [ocean, drug abuse, exotic island, east india ...   \n",
       "2  [spy, based on novel, secret agent, sequel, mi...   \n",
       "3  [dc comics, crime fighter, terrorist, secret i...   \n",
       "4  [based on novel, mars, medallion, space travel...   \n",
       "\n",
       "                                            overview  vote_average  \\\n",
       "0  [In, the, 22nd, century,, a, paraplegic, Marin...           7.2   \n",
       "1  [Captain, Barbossa,, long, believed, to, be, d...           6.9   \n",
       "2  [A, cryptic, message, from, Bond’s, past, send...           6.3   \n",
       "3  [Following, the, death, of, District, Attorney...           7.6   \n",
       "4  [John, Carter, is, a, war-weary,, former, mili...           6.1   \n",
       "\n",
       "   vote_count                                               cast  \\\n",
       "0       11800  [Sam Worthington, Zoe Saldana, Sigourney Weave...   \n",
       "1        4500  [Johnny Depp, Orlando Bloom, Keira Knightley, ...   \n",
       "2        4466  [Daniel Craig, Christoph Waltz, Léa Seydoux, R...   \n",
       "3        9106  [Christian Bale, Michael Caine, Gary Oldman, A...   \n",
       "4        2124  [Taylor Kitsch, Lynn Collins, Samantha Morton,...   \n",
       "\n",
       "                  crew  \n",
       "0      [James Cameron]  \n",
       "1     [Gore Verbinski]  \n",
       "2         [Sam Mendes]  \n",
       "3  [Christopher Nolan]  \n",
       "4     [Andrew Stanton]  "
      ]
     },
     "execution_count": 19,
     "metadata": {},
     "output_type": "execute_result"
    }
   ],
   "source": [
    "movies.head()"
   ]
  },
  {
   "cell_type": "markdown",
   "id": "61bb7256",
   "metadata": {
    "papermill": {
     "duration": 0.009656,
     "end_time": "2025-03-12T09:00:08.932378",
     "exception": false,
     "start_time": "2025-03-12T09:00:08.922722",
     "status": "completed"
    },
    "tags": []
   },
   "source": [
    "merging the name and surnames of people so that not confused"
   ]
  },
  {
   "cell_type": "code",
   "execution_count": 20,
   "id": "d0e95e76",
   "metadata": {
    "execution": {
     "iopub.execute_input": "2025-03-12T09:00:08.953703Z",
     "iopub.status.busy": "2025-03-12T09:00:08.953365Z",
     "iopub.status.idle": "2025-03-12T09:00:08.999675Z",
     "shell.execute_reply": "2025-03-12T09:00:08.998250Z"
    },
    "papermill": {
     "duration": 0.059334,
     "end_time": "2025-03-12T09:00:09.001688",
     "exception": false,
     "start_time": "2025-03-12T09:00:08.942354",
     "status": "completed"
    },
    "tags": []
   },
   "outputs": [],
   "source": [
    "movies['genres'] = movies['genres'].apply(lambda x: [i.replace(\" \", \"\") for i in x])\n",
    "movies['keywords'] = movies['keywords'].apply(lambda x: [i.replace(\" \", \"\") for i in x])\n",
    "movies['cast'] = movies['cast'].apply(lambda x: [i.replace(\" \", \"\") for i in x])\n",
    "movies['crew'] = movies['crew'].apply(lambda x: [i.replace(\" \", \"\") for i in x])"
   ]
  },
  {
   "cell_type": "code",
   "execution_count": 21,
   "id": "4a7a7a85",
   "metadata": {
    "execution": {
     "iopub.execute_input": "2025-03-12T09:00:09.028063Z",
     "iopub.status.busy": "2025-03-12T09:00:09.027660Z",
     "iopub.status.idle": "2025-03-12T09:00:09.048106Z",
     "shell.execute_reply": "2025-03-12T09:00:09.047002Z"
    },
    "papermill": {
     "duration": 0.033528,
     "end_time": "2025-03-12T09:00:09.049815",
     "exception": false,
     "start_time": "2025-03-12T09:00:09.016287",
     "status": "completed"
    },
    "tags": []
   },
   "outputs": [
    {
     "data": {
      "text/html": [
       "<div>\n",
       "<style scoped>\n",
       "    .dataframe tbody tr th:only-of-type {\n",
       "        vertical-align: middle;\n",
       "    }\n",
       "\n",
       "    .dataframe tbody tr th {\n",
       "        vertical-align: top;\n",
       "    }\n",
       "\n",
       "    .dataframe thead th {\n",
       "        text-align: right;\n",
       "    }\n",
       "</style>\n",
       "<table border=\"1\" class=\"dataframe\">\n",
       "  <thead>\n",
       "    <tr style=\"text-align: right;\">\n",
       "      <th></th>\n",
       "      <th>id</th>\n",
       "      <th>title</th>\n",
       "      <th>genres</th>\n",
       "      <th>keywords</th>\n",
       "      <th>overview</th>\n",
       "      <th>vote_average</th>\n",
       "      <th>vote_count</th>\n",
       "      <th>cast</th>\n",
       "      <th>crew</th>\n",
       "    </tr>\n",
       "  </thead>\n",
       "  <tbody>\n",
       "    <tr>\n",
       "      <th>0</th>\n",
       "      <td>19995</td>\n",
       "      <td>Avatar</td>\n",
       "      <td>[Action, Adventure, Fantasy, ScienceFiction]</td>\n",
       "      <td>[cultureclash, future, spacewar, spacecolony, ...</td>\n",
       "      <td>[In, the, 22nd, century,, a, paraplegic, Marin...</td>\n",
       "      <td>7.2</td>\n",
       "      <td>11800</td>\n",
       "      <td>[SamWorthington, ZoeSaldana, SigourneyWeaver, ...</td>\n",
       "      <td>[JamesCameron]</td>\n",
       "    </tr>\n",
       "    <tr>\n",
       "      <th>1</th>\n",
       "      <td>285</td>\n",
       "      <td>Pirates of the Caribbean: At World's End</td>\n",
       "      <td>[Adventure, Fantasy, Action]</td>\n",
       "      <td>[ocean, drugabuse, exoticisland, eastindiatrad...</td>\n",
       "      <td>[Captain, Barbossa,, long, believed, to, be, d...</td>\n",
       "      <td>6.9</td>\n",
       "      <td>4500</td>\n",
       "      <td>[JohnnyDepp, OrlandoBloom, KeiraKnightley, Ste...</td>\n",
       "      <td>[GoreVerbinski]</td>\n",
       "    </tr>\n",
       "    <tr>\n",
       "      <th>2</th>\n",
       "      <td>206647</td>\n",
       "      <td>Spectre</td>\n",
       "      <td>[Action, Adventure, Crime]</td>\n",
       "      <td>[spy, basedonnovel, secretagent, sequel, mi6, ...</td>\n",
       "      <td>[A, cryptic, message, from, Bond’s, past, send...</td>\n",
       "      <td>6.3</td>\n",
       "      <td>4466</td>\n",
       "      <td>[DanielCraig, ChristophWaltz, LéaSeydoux, Ralp...</td>\n",
       "      <td>[SamMendes]</td>\n",
       "    </tr>\n",
       "    <tr>\n",
       "      <th>3</th>\n",
       "      <td>49026</td>\n",
       "      <td>The Dark Knight Rises</td>\n",
       "      <td>[Action, Crime, Drama, Thriller]</td>\n",
       "      <td>[dccomics, crimefighter, terrorist, secretiden...</td>\n",
       "      <td>[Following, the, death, of, District, Attorney...</td>\n",
       "      <td>7.6</td>\n",
       "      <td>9106</td>\n",
       "      <td>[ChristianBale, MichaelCaine, GaryOldman, Anne...</td>\n",
       "      <td>[ChristopherNolan]</td>\n",
       "    </tr>\n",
       "    <tr>\n",
       "      <th>4</th>\n",
       "      <td>49529</td>\n",
       "      <td>John Carter</td>\n",
       "      <td>[Action, Adventure, ScienceFiction]</td>\n",
       "      <td>[basedonnovel, mars, medallion, spacetravel, p...</td>\n",
       "      <td>[John, Carter, is, a, war-weary,, former, mili...</td>\n",
       "      <td>6.1</td>\n",
       "      <td>2124</td>\n",
       "      <td>[TaylorKitsch, LynnCollins, SamanthaMorton, Wi...</td>\n",
       "      <td>[AndrewStanton]</td>\n",
       "    </tr>\n",
       "  </tbody>\n",
       "</table>\n",
       "</div>"
      ],
      "text/plain": [
       "       id                                     title  \\\n",
       "0   19995                                    Avatar   \n",
       "1     285  Pirates of the Caribbean: At World's End   \n",
       "2  206647                                   Spectre   \n",
       "3   49026                     The Dark Knight Rises   \n",
       "4   49529                               John Carter   \n",
       "\n",
       "                                         genres  \\\n",
       "0  [Action, Adventure, Fantasy, ScienceFiction]   \n",
       "1                  [Adventure, Fantasy, Action]   \n",
       "2                    [Action, Adventure, Crime]   \n",
       "3              [Action, Crime, Drama, Thriller]   \n",
       "4           [Action, Adventure, ScienceFiction]   \n",
       "\n",
       "                                            keywords  \\\n",
       "0  [cultureclash, future, spacewar, spacecolony, ...   \n",
       "1  [ocean, drugabuse, exoticisland, eastindiatrad...   \n",
       "2  [spy, basedonnovel, secretagent, sequel, mi6, ...   \n",
       "3  [dccomics, crimefighter, terrorist, secretiden...   \n",
       "4  [basedonnovel, mars, medallion, spacetravel, p...   \n",
       "\n",
       "                                            overview  vote_average  \\\n",
       "0  [In, the, 22nd, century,, a, paraplegic, Marin...           7.2   \n",
       "1  [Captain, Barbossa,, long, believed, to, be, d...           6.9   \n",
       "2  [A, cryptic, message, from, Bond’s, past, send...           6.3   \n",
       "3  [Following, the, death, of, District, Attorney...           7.6   \n",
       "4  [John, Carter, is, a, war-weary,, former, mili...           6.1   \n",
       "\n",
       "   vote_count                                               cast  \\\n",
       "0       11800  [SamWorthington, ZoeSaldana, SigourneyWeaver, ...   \n",
       "1        4500  [JohnnyDepp, OrlandoBloom, KeiraKnightley, Ste...   \n",
       "2        4466  [DanielCraig, ChristophWaltz, LéaSeydoux, Ralp...   \n",
       "3        9106  [ChristianBale, MichaelCaine, GaryOldman, Anne...   \n",
       "4        2124  [TaylorKitsch, LynnCollins, SamanthaMorton, Wi...   \n",
       "\n",
       "                 crew  \n",
       "0      [JamesCameron]  \n",
       "1     [GoreVerbinski]  \n",
       "2         [SamMendes]  \n",
       "3  [ChristopherNolan]  \n",
       "4     [AndrewStanton]  "
      ]
     },
     "execution_count": 21,
     "metadata": {},
     "output_type": "execute_result"
    }
   ],
   "source": [
    "movies.head()"
   ]
  },
  {
   "cell_type": "markdown",
   "id": "c4a860e6",
   "metadata": {
    "papermill": {
     "duration": 0.010419,
     "end_time": "2025-03-12T09:00:09.072192",
     "exception": false,
     "start_time": "2025-03-12T09:00:09.061773",
     "status": "completed"
    },
    "tags": []
   },
   "source": [
    "## Final dataset creation and saving"
   ]
  },
  {
   "cell_type": "code",
   "execution_count": 22,
   "id": "0e8f571d",
   "metadata": {
    "execution": {
     "iopub.execute_input": "2025-03-12T09:00:09.095014Z",
     "iopub.status.busy": "2025-03-12T09:00:09.094557Z",
     "iopub.status.idle": "2025-03-12T09:00:09.282410Z",
     "shell.execute_reply": "2025-03-12T09:00:09.281263Z"
    },
    "papermill": {
     "duration": 0.201466,
     "end_time": "2025-03-12T09:00:09.284381",
     "exception": false,
     "start_time": "2025-03-12T09:00:09.082915",
     "status": "completed"
    },
    "tags": []
   },
   "outputs": [
    {
     "data": {
      "text/html": [
       "<div>\n",
       "<style scoped>\n",
       "    .dataframe tbody tr th:only-of-type {\n",
       "        vertical-align: middle;\n",
       "    }\n",
       "\n",
       "    .dataframe tbody tr th {\n",
       "        vertical-align: top;\n",
       "    }\n",
       "\n",
       "    .dataframe thead th {\n",
       "        text-align: right;\n",
       "    }\n",
       "</style>\n",
       "<table border=\"1\" class=\"dataframe\">\n",
       "  <thead>\n",
       "    <tr style=\"text-align: right;\">\n",
       "      <th></th>\n",
       "      <th>id</th>\n",
       "      <th>title</th>\n",
       "      <th>genres</th>\n",
       "      <th>keywords</th>\n",
       "      <th>overview</th>\n",
       "      <th>vote_average</th>\n",
       "      <th>vote_count</th>\n",
       "      <th>cast</th>\n",
       "      <th>crew</th>\n",
       "      <th>tag</th>\n",
       "    </tr>\n",
       "  </thead>\n",
       "  <tbody>\n",
       "    <tr>\n",
       "      <th>0</th>\n",
       "      <td>19995</td>\n",
       "      <td>Avatar</td>\n",
       "      <td>[Action, Adventure, Fantasy, ScienceFiction]</td>\n",
       "      <td>[cultureclash, future, spacewar, spacecolony, ...</td>\n",
       "      <td>[In, the, 22nd, century,, a, paraplegic, Marin...</td>\n",
       "      <td>7.2</td>\n",
       "      <td>11800</td>\n",
       "      <td>[SamWorthington, ZoeSaldana, SigourneyWeaver, ...</td>\n",
       "      <td>[JamesCameron]</td>\n",
       "      <td>[In, the, 22nd, century,, a, paraplegic, Marin...</td>\n",
       "    </tr>\n",
       "    <tr>\n",
       "      <th>1</th>\n",
       "      <td>285</td>\n",
       "      <td>Pirates of the Caribbean: At World's End</td>\n",
       "      <td>[Adventure, Fantasy, Action]</td>\n",
       "      <td>[ocean, drugabuse, exoticisland, eastindiatrad...</td>\n",
       "      <td>[Captain, Barbossa,, long, believed, to, be, d...</td>\n",
       "      <td>6.9</td>\n",
       "      <td>4500</td>\n",
       "      <td>[JohnnyDepp, OrlandoBloom, KeiraKnightley, Ste...</td>\n",
       "      <td>[GoreVerbinski]</td>\n",
       "      <td>[Captain, Barbossa,, long, believed, to, be, d...</td>\n",
       "    </tr>\n",
       "    <tr>\n",
       "      <th>2</th>\n",
       "      <td>206647</td>\n",
       "      <td>Spectre</td>\n",
       "      <td>[Action, Adventure, Crime]</td>\n",
       "      <td>[spy, basedonnovel, secretagent, sequel, mi6, ...</td>\n",
       "      <td>[A, cryptic, message, from, Bond’s, past, send...</td>\n",
       "      <td>6.3</td>\n",
       "      <td>4466</td>\n",
       "      <td>[DanielCraig, ChristophWaltz, LéaSeydoux, Ralp...</td>\n",
       "      <td>[SamMendes]</td>\n",
       "      <td>[A, cryptic, message, from, Bond’s, past, send...</td>\n",
       "    </tr>\n",
       "    <tr>\n",
       "      <th>3</th>\n",
       "      <td>49026</td>\n",
       "      <td>The Dark Knight Rises</td>\n",
       "      <td>[Action, Crime, Drama, Thriller]</td>\n",
       "      <td>[dccomics, crimefighter, terrorist, secretiden...</td>\n",
       "      <td>[Following, the, death, of, District, Attorney...</td>\n",
       "      <td>7.6</td>\n",
       "      <td>9106</td>\n",
       "      <td>[ChristianBale, MichaelCaine, GaryOldman, Anne...</td>\n",
       "      <td>[ChristopherNolan]</td>\n",
       "      <td>[Following, the, death, of, District, Attorney...</td>\n",
       "    </tr>\n",
       "    <tr>\n",
       "      <th>4</th>\n",
       "      <td>49529</td>\n",
       "      <td>John Carter</td>\n",
       "      <td>[Action, Adventure, ScienceFiction]</td>\n",
       "      <td>[basedonnovel, mars, medallion, spacetravel, p...</td>\n",
       "      <td>[John, Carter, is, a, war-weary,, former, mili...</td>\n",
       "      <td>6.1</td>\n",
       "      <td>2124</td>\n",
       "      <td>[TaylorKitsch, LynnCollins, SamanthaMorton, Wi...</td>\n",
       "      <td>[AndrewStanton]</td>\n",
       "      <td>[John, Carter, is, a, war-weary,, former, mili...</td>\n",
       "    </tr>\n",
       "  </tbody>\n",
       "</table>\n",
       "</div>"
      ],
      "text/plain": [
       "       id                                     title  \\\n",
       "0   19995                                    Avatar   \n",
       "1     285  Pirates of the Caribbean: At World's End   \n",
       "2  206647                                   Spectre   \n",
       "3   49026                     The Dark Knight Rises   \n",
       "4   49529                               John Carter   \n",
       "\n",
       "                                         genres  \\\n",
       "0  [Action, Adventure, Fantasy, ScienceFiction]   \n",
       "1                  [Adventure, Fantasy, Action]   \n",
       "2                    [Action, Adventure, Crime]   \n",
       "3              [Action, Crime, Drama, Thriller]   \n",
       "4           [Action, Adventure, ScienceFiction]   \n",
       "\n",
       "                                            keywords  \\\n",
       "0  [cultureclash, future, spacewar, spacecolony, ...   \n",
       "1  [ocean, drugabuse, exoticisland, eastindiatrad...   \n",
       "2  [spy, basedonnovel, secretagent, sequel, mi6, ...   \n",
       "3  [dccomics, crimefighter, terrorist, secretiden...   \n",
       "4  [basedonnovel, mars, medallion, spacetravel, p...   \n",
       "\n",
       "                                            overview  vote_average  \\\n",
       "0  [In, the, 22nd, century,, a, paraplegic, Marin...           7.2   \n",
       "1  [Captain, Barbossa,, long, believed, to, be, d...           6.9   \n",
       "2  [A, cryptic, message, from, Bond’s, past, send...           6.3   \n",
       "3  [Following, the, death, of, District, Attorney...           7.6   \n",
       "4  [John, Carter, is, a, war-weary,, former, mili...           6.1   \n",
       "\n",
       "   vote_count                                               cast  \\\n",
       "0       11800  [SamWorthington, ZoeSaldana, SigourneyWeaver, ...   \n",
       "1        4500  [JohnnyDepp, OrlandoBloom, KeiraKnightley, Ste...   \n",
       "2        4466  [DanielCraig, ChristophWaltz, LéaSeydoux, Ralp...   \n",
       "3        9106  [ChristianBale, MichaelCaine, GaryOldman, Anne...   \n",
       "4        2124  [TaylorKitsch, LynnCollins, SamanthaMorton, Wi...   \n",
       "\n",
       "                 crew                                                tag  \n",
       "0      [JamesCameron]  [In, the, 22nd, century,, a, paraplegic, Marin...  \n",
       "1     [GoreVerbinski]  [Captain, Barbossa,, long, believed, to, be, d...  \n",
       "2         [SamMendes]  [A, cryptic, message, from, Bond’s, past, send...  \n",
       "3  [ChristopherNolan]  [Following, the, death, of, District, Attorney...  \n",
       "4     [AndrewStanton]  [John, Carter, is, a, war-weary,, former, mili...  "
      ]
     },
     "execution_count": 22,
     "metadata": {},
     "output_type": "execute_result"
    }
   ],
   "source": [
    "movies['tag'] = movies['overview']+movies['genres']+movies['keywords']+movies['cast']+movies['crew']\n",
    "\n",
    "movies.head()"
   ]
  },
  {
   "cell_type": "code",
   "execution_count": 23,
   "id": "55f74cb7",
   "metadata": {
    "execution": {
     "iopub.execute_input": "2025-03-12T09:00:09.307030Z",
     "iopub.status.busy": "2025-03-12T09:00:09.306629Z",
     "iopub.status.idle": "2025-03-12T09:00:09.340736Z",
     "shell.execute_reply": "2025-03-12T09:00:09.339422Z"
    },
    "papermill": {
     "duration": 0.047154,
     "end_time": "2025-03-12T09:00:09.342480",
     "exception": false,
     "start_time": "2025-03-12T09:00:09.295326",
     "status": "completed"
    },
    "tags": []
   },
   "outputs": [
    {
     "data": {
      "text/html": [
       "<div>\n",
       "<style scoped>\n",
       "    .dataframe tbody tr th:only-of-type {\n",
       "        vertical-align: middle;\n",
       "    }\n",
       "\n",
       "    .dataframe tbody tr th {\n",
       "        vertical-align: top;\n",
       "    }\n",
       "\n",
       "    .dataframe thead th {\n",
       "        text-align: right;\n",
       "    }\n",
       "</style>\n",
       "<table border=\"1\" class=\"dataframe\">\n",
       "  <thead>\n",
       "    <tr style=\"text-align: right;\">\n",
       "      <th></th>\n",
       "      <th>id</th>\n",
       "      <th>title</th>\n",
       "      <th>genres</th>\n",
       "      <th>keywords</th>\n",
       "      <th>overview</th>\n",
       "      <th>vote_average</th>\n",
       "      <th>vote_count</th>\n",
       "      <th>cast</th>\n",
       "      <th>crew</th>\n",
       "      <th>tag</th>\n",
       "    </tr>\n",
       "  </thead>\n",
       "  <tbody>\n",
       "    <tr>\n",
       "      <th>0</th>\n",
       "      <td>19995</td>\n",
       "      <td>Avatar</td>\n",
       "      <td>[Action, Adventure, Fantasy, ScienceFiction]</td>\n",
       "      <td>[cultureclash, future, spacewar, spacecolony, ...</td>\n",
       "      <td>[In, the, 22nd, century,, a, paraplegic, Marin...</td>\n",
       "      <td>7.2</td>\n",
       "      <td>11800</td>\n",
       "      <td>[SamWorthington, ZoeSaldana, SigourneyWeaver, ...</td>\n",
       "      <td>[JamesCameron]</td>\n",
       "      <td>In the 22nd century, a paraplegic Marine is di...</td>\n",
       "    </tr>\n",
       "    <tr>\n",
       "      <th>1</th>\n",
       "      <td>285</td>\n",
       "      <td>Pirates of the Caribbean: At World's End</td>\n",
       "      <td>[Adventure, Fantasy, Action]</td>\n",
       "      <td>[ocean, drugabuse, exoticisland, eastindiatrad...</td>\n",
       "      <td>[Captain, Barbossa,, long, believed, to, be, d...</td>\n",
       "      <td>6.9</td>\n",
       "      <td>4500</td>\n",
       "      <td>[JohnnyDepp, OrlandoBloom, KeiraKnightley, Ste...</td>\n",
       "      <td>[GoreVerbinski]</td>\n",
       "      <td>Captain Barbossa, long believed to be dead, ha...</td>\n",
       "    </tr>\n",
       "    <tr>\n",
       "      <th>2</th>\n",
       "      <td>206647</td>\n",
       "      <td>Spectre</td>\n",
       "      <td>[Action, Adventure, Crime]</td>\n",
       "      <td>[spy, basedonnovel, secretagent, sequel, mi6, ...</td>\n",
       "      <td>[A, cryptic, message, from, Bond’s, past, send...</td>\n",
       "      <td>6.3</td>\n",
       "      <td>4466</td>\n",
       "      <td>[DanielCraig, ChristophWaltz, LéaSeydoux, Ralp...</td>\n",
       "      <td>[SamMendes]</td>\n",
       "      <td>A cryptic message from Bond’s past sends him o...</td>\n",
       "    </tr>\n",
       "    <tr>\n",
       "      <th>3</th>\n",
       "      <td>49026</td>\n",
       "      <td>The Dark Knight Rises</td>\n",
       "      <td>[Action, Crime, Drama, Thriller]</td>\n",
       "      <td>[dccomics, crimefighter, terrorist, secretiden...</td>\n",
       "      <td>[Following, the, death, of, District, Attorney...</td>\n",
       "      <td>7.6</td>\n",
       "      <td>9106</td>\n",
       "      <td>[ChristianBale, MichaelCaine, GaryOldman, Anne...</td>\n",
       "      <td>[ChristopherNolan]</td>\n",
       "      <td>Following the death of District Attorney Harve...</td>\n",
       "    </tr>\n",
       "    <tr>\n",
       "      <th>4</th>\n",
       "      <td>49529</td>\n",
       "      <td>John Carter</td>\n",
       "      <td>[Action, Adventure, ScienceFiction]</td>\n",
       "      <td>[basedonnovel, mars, medallion, spacetravel, p...</td>\n",
       "      <td>[John, Carter, is, a, war-weary,, former, mili...</td>\n",
       "      <td>6.1</td>\n",
       "      <td>2124</td>\n",
       "      <td>[TaylorKitsch, LynnCollins, SamanthaMorton, Wi...</td>\n",
       "      <td>[AndrewStanton]</td>\n",
       "      <td>John Carter is a war-weary, former military ca...</td>\n",
       "    </tr>\n",
       "  </tbody>\n",
       "</table>\n",
       "</div>"
      ],
      "text/plain": [
       "       id                                     title  \\\n",
       "0   19995                                    Avatar   \n",
       "1     285  Pirates of the Caribbean: At World's End   \n",
       "2  206647                                   Spectre   \n",
       "3   49026                     The Dark Knight Rises   \n",
       "4   49529                               John Carter   \n",
       "\n",
       "                                         genres  \\\n",
       "0  [Action, Adventure, Fantasy, ScienceFiction]   \n",
       "1                  [Adventure, Fantasy, Action]   \n",
       "2                    [Action, Adventure, Crime]   \n",
       "3              [Action, Crime, Drama, Thriller]   \n",
       "4           [Action, Adventure, ScienceFiction]   \n",
       "\n",
       "                                            keywords  \\\n",
       "0  [cultureclash, future, spacewar, spacecolony, ...   \n",
       "1  [ocean, drugabuse, exoticisland, eastindiatrad...   \n",
       "2  [spy, basedonnovel, secretagent, sequel, mi6, ...   \n",
       "3  [dccomics, crimefighter, terrorist, secretiden...   \n",
       "4  [basedonnovel, mars, medallion, spacetravel, p...   \n",
       "\n",
       "                                            overview  vote_average  \\\n",
       "0  [In, the, 22nd, century,, a, paraplegic, Marin...           7.2   \n",
       "1  [Captain, Barbossa,, long, believed, to, be, d...           6.9   \n",
       "2  [A, cryptic, message, from, Bond’s, past, send...           6.3   \n",
       "3  [Following, the, death, of, District, Attorney...           7.6   \n",
       "4  [John, Carter, is, a, war-weary,, former, mili...           6.1   \n",
       "\n",
       "   vote_count                                               cast  \\\n",
       "0       11800  [SamWorthington, ZoeSaldana, SigourneyWeaver, ...   \n",
       "1        4500  [JohnnyDepp, OrlandoBloom, KeiraKnightley, Ste...   \n",
       "2        4466  [DanielCraig, ChristophWaltz, LéaSeydoux, Ralp...   \n",
       "3        9106  [ChristianBale, MichaelCaine, GaryOldman, Anne...   \n",
       "4        2124  [TaylorKitsch, LynnCollins, SamanthaMorton, Wi...   \n",
       "\n",
       "                 crew                                                tag  \n",
       "0      [JamesCameron]  In the 22nd century, a paraplegic Marine is di...  \n",
       "1     [GoreVerbinski]  Captain Barbossa, long believed to be dead, ha...  \n",
       "2         [SamMendes]  A cryptic message from Bond’s past sends him o...  \n",
       "3  [ChristopherNolan]  Following the death of District Attorney Harve...  \n",
       "4     [AndrewStanton]  John Carter is a war-weary, former military ca...  "
      ]
     },
     "execution_count": 23,
     "metadata": {},
     "output_type": "execute_result"
    }
   ],
   "source": [
    "movies['tag'] = movies['tag'].apply(lambda x: \" \".join(x))\n",
    "\n",
    "movies.head()"
   ]
  },
  {
   "cell_type": "code",
   "execution_count": 24,
   "id": "5fd79d1c",
   "metadata": {
    "execution": {
     "iopub.execute_input": "2025-03-12T09:00:09.365623Z",
     "iopub.status.busy": "2025-03-12T09:00:09.365244Z",
     "iopub.status.idle": "2025-03-12T09:00:09.386468Z",
     "shell.execute_reply": "2025-03-12T09:00:09.385355Z"
    },
    "papermill": {
     "duration": 0.0348,
     "end_time": "2025-03-12T09:00:09.388260",
     "exception": false,
     "start_time": "2025-03-12T09:00:09.353460",
     "status": "completed"
    },
    "tags": []
   },
   "outputs": [
    {
     "data": {
      "text/html": [
       "<div>\n",
       "<style scoped>\n",
       "    .dataframe tbody tr th:only-of-type {\n",
       "        vertical-align: middle;\n",
       "    }\n",
       "\n",
       "    .dataframe tbody tr th {\n",
       "        vertical-align: top;\n",
       "    }\n",
       "\n",
       "    .dataframe thead th {\n",
       "        text-align: right;\n",
       "    }\n",
       "</style>\n",
       "<table border=\"1\" class=\"dataframe\">\n",
       "  <thead>\n",
       "    <tr style=\"text-align: right;\">\n",
       "      <th></th>\n",
       "      <th>id</th>\n",
       "      <th>title</th>\n",
       "      <th>tag</th>\n",
       "      <th>vote_average</th>\n",
       "      <th>vote_count</th>\n",
       "    </tr>\n",
       "  </thead>\n",
       "  <tbody>\n",
       "    <tr>\n",
       "      <th>0</th>\n",
       "      <td>19995</td>\n",
       "      <td>Avatar</td>\n",
       "      <td>in the 22nd century, a paraplegic marine is di...</td>\n",
       "      <td>7.2</td>\n",
       "      <td>11800</td>\n",
       "    </tr>\n",
       "    <tr>\n",
       "      <th>1</th>\n",
       "      <td>285</td>\n",
       "      <td>Pirates of the Caribbean: At World's End</td>\n",
       "      <td>captain barbossa, long believed to be dead, ha...</td>\n",
       "      <td>6.9</td>\n",
       "      <td>4500</td>\n",
       "    </tr>\n",
       "    <tr>\n",
       "      <th>2</th>\n",
       "      <td>206647</td>\n",
       "      <td>Spectre</td>\n",
       "      <td>a cryptic message from bond’s past sends him o...</td>\n",
       "      <td>6.3</td>\n",
       "      <td>4466</td>\n",
       "    </tr>\n",
       "    <tr>\n",
       "      <th>3</th>\n",
       "      <td>49026</td>\n",
       "      <td>The Dark Knight Rises</td>\n",
       "      <td>following the death of district attorney harve...</td>\n",
       "      <td>7.6</td>\n",
       "      <td>9106</td>\n",
       "    </tr>\n",
       "    <tr>\n",
       "      <th>4</th>\n",
       "      <td>49529</td>\n",
       "      <td>John Carter</td>\n",
       "      <td>john carter is a war-weary, former military ca...</td>\n",
       "      <td>6.1</td>\n",
       "      <td>2124</td>\n",
       "    </tr>\n",
       "  </tbody>\n",
       "</table>\n",
       "</div>"
      ],
      "text/plain": [
       "       id                                     title  \\\n",
       "0   19995                                    Avatar   \n",
       "1     285  Pirates of the Caribbean: At World's End   \n",
       "2  206647                                   Spectre   \n",
       "3   49026                     The Dark Knight Rises   \n",
       "4   49529                               John Carter   \n",
       "\n",
       "                                                 tag  vote_average  vote_count  \n",
       "0  in the 22nd century, a paraplegic marine is di...           7.2       11800  \n",
       "1  captain barbossa, long believed to be dead, ha...           6.9        4500  \n",
       "2  a cryptic message from bond’s past sends him o...           6.3        4466  \n",
       "3  following the death of district attorney harve...           7.6        9106  \n",
       "4  john carter is a war-weary, former military ca...           6.1        2124  "
      ]
     },
     "execution_count": 24,
     "metadata": {},
     "output_type": "execute_result"
    }
   ],
   "source": [
    "df = movies[['id', 'title', 'tag', 'vote_average', 'vote_count']]\n",
    "\n",
    "df['tag'] = df['tag'].apply(lambda x: x.lower())\n",
    "\n",
    "df.head()"
   ]
  },
  {
   "cell_type": "markdown",
   "id": "fdff75bd",
   "metadata": {
    "papermill": {
     "duration": 0.011165,
     "end_time": "2025-03-12T09:00:09.410649",
     "exception": false,
     "start_time": "2025-03-12T09:00:09.399484",
     "status": "completed"
    },
    "tags": []
   },
   "source": [
    "saving the dataset"
   ]
  },
  {
   "cell_type": "code",
   "execution_count": 25,
   "id": "d3aa1112",
   "metadata": {
    "execution": {
     "iopub.execute_input": "2025-03-12T09:00:09.434297Z",
     "iopub.status.busy": "2025-03-12T09:00:09.433904Z",
     "iopub.status.idle": "2025-03-12T09:00:09.511041Z",
     "shell.execute_reply": "2025-03-12T09:00:09.509703Z"
    },
    "papermill": {
     "duration": 0.091447,
     "end_time": "2025-03-12T09:00:09.513144",
     "exception": false,
     "start_time": "2025-03-12T09:00:09.421697",
     "status": "completed"
    },
    "tags": []
   },
   "outputs": [],
   "source": [
    "df.to_csv('movies.csv', index=False)"
   ]
  },
  {
   "cell_type": "markdown",
   "id": "3fbb4151",
   "metadata": {
    "papermill": {
     "duration": 0.011443,
     "end_time": "2025-03-12T09:00:09.536527",
     "exception": false,
     "start_time": "2025-03-12T09:00:09.525084",
     "status": "completed"
    },
    "tags": []
   },
   "source": [
    "## Vectorization and Recommendation"
   ]
  },
  {
   "cell_type": "code",
   "execution_count": 26,
   "id": "f05e087c",
   "metadata": {
    "execution": {
     "iopub.execute_input": "2025-03-12T09:00:09.560694Z",
     "iopub.status.busy": "2025-03-12T09:00:09.560330Z",
     "iopub.status.idle": "2025-03-12T09:00:11.041104Z",
     "shell.execute_reply": "2025-03-12T09:00:11.039909Z"
    },
    "papermill": {
     "duration": 1.495591,
     "end_time": "2025-03-12T09:00:11.043587",
     "exception": false,
     "start_time": "2025-03-12T09:00:09.547996",
     "status": "completed"
    },
    "tags": []
   },
   "outputs": [],
   "source": [
    "from sklearn.feature_extraction.text import TfidfVectorizer\n",
    "from sklearn.metrics.pairwise import cosine_similarity"
   ]
  },
  {
   "cell_type": "code",
   "execution_count": 27,
   "id": "022e41d7",
   "metadata": {
    "execution": {
     "iopub.execute_input": "2025-03-12T09:00:11.084566Z",
     "iopub.status.busy": "2025-03-12T09:00:11.083856Z",
     "iopub.status.idle": "2025-03-12T09:00:11.585547Z",
     "shell.execute_reply": "2025-03-12T09:00:11.584270Z"
    },
    "papermill": {
     "duration": 0.522325,
     "end_time": "2025-03-12T09:00:11.587436",
     "exception": false,
     "start_time": "2025-03-12T09:00:11.065111",
     "status": "completed"
    },
    "tags": []
   },
   "outputs": [
    {
     "name": "stdout",
     "output_type": "stream",
     "text": [
      "(4800, 41117)\n"
     ]
    }
   ],
   "source": [
    "tfidf = TfidfVectorizer(stop_words='english')\n",
    "tfidf_matrix = tfidf.fit_transform(df['tag'])\n",
    "print(tfidf_matrix.shape)"
   ]
  },
  {
   "cell_type": "code",
   "execution_count": 28,
   "id": "ddf07172",
   "metadata": {
    "execution": {
     "iopub.execute_input": "2025-03-12T09:00:11.611630Z",
     "iopub.status.busy": "2025-03-12T09:00:11.611238Z",
     "iopub.status.idle": "2025-03-12T09:00:12.411351Z",
     "shell.execute_reply": "2025-03-12T09:00:12.410188Z"
    },
    "papermill": {
     "duration": 0.814331,
     "end_time": "2025-03-12T09:00:12.413262",
     "exception": false,
     "start_time": "2025-03-12T09:00:11.598931",
     "status": "completed"
    },
    "tags": []
   },
   "outputs": [],
   "source": [
    "cosine_sim = cosine_similarity(tfidf_matrix)"
   ]
  },
  {
   "cell_type": "code",
   "execution_count": 29,
   "id": "755c8424",
   "metadata": {
    "execution": {
     "iopub.execute_input": "2025-03-12T09:00:12.437246Z",
     "iopub.status.busy": "2025-03-12T09:00:12.436886Z",
     "iopub.status.idle": "2025-03-12T09:00:12.441600Z",
     "shell.execute_reply": "2025-03-12T09:00:12.440524Z"
    },
    "papermill": {
     "duration": 0.018571,
     "end_time": "2025-03-12T09:00:12.443288",
     "exception": false,
     "start_time": "2025-03-12T09:00:12.424717",
     "status": "completed"
    },
    "tags": []
   },
   "outputs": [],
   "source": [
    "def findMovie(movie_title):\n",
    "    # Get index of the movie that matches the title\n",
    "    movie_details = df[df['title'] == movie_title]\n",
    "\n",
    "    if movie_details.empty:\n",
    "        return \"Movie not found!\"\n",
    "    else:\n",
    "        return movie_details"
   ]
  },
  {
   "cell_type": "code",
   "execution_count": 30,
   "id": "8c6b3425",
   "metadata": {
    "execution": {
     "iopub.execute_input": "2025-03-12T09:00:12.467747Z",
     "iopub.status.busy": "2025-03-12T09:00:12.467392Z",
     "iopub.status.idle": "2025-03-12T09:00:12.473062Z",
     "shell.execute_reply": "2025-03-12T09:00:12.472153Z"
    },
    "papermill": {
     "duration": 0.019608,
     "end_time": "2025-03-12T09:00:12.474737",
     "exception": false,
     "start_time": "2025-03-12T09:00:12.455129",
     "status": "completed"
    },
    "tags": []
   },
   "outputs": [],
   "source": [
    "def recommend(movie_title, cosine_sim, n_recommendations=5):\n",
    "\n",
    "    if movie_title not in df['title'].values:\n",
    "        return \"Movie not found!\"\n",
    "\n",
    "    else:\n",
    "        # Get index of the movie that matches the title\n",
    "        idx = df[df['title'] == movie_title].index[0]\n",
    "        \n",
    "        # Get similarity scores for all movies with that movie\n",
    "        sim_scores = list(enumerate(cosine_sim[idx]))\n",
    "        \n",
    "        # Sort movies based on similarity scores\n",
    "        sim_scores = sorted(sim_scores, key=lambda x: x[1], reverse=True)\n",
    "        \n",
    "        # Get the top 5 similar movies (excluding the input movie itself)\n",
    "        sim_scores = sim_scores[1:n_recommendations+1]\n",
    "        \n",
    "        # Get movie indices\n",
    "        movie_indices = [i[0] for i in sim_scores]\n",
    "        \n",
    "        # Return the top recommended movie titles\n",
    "        return df.loc[movie_indices, ['id', 'title']].values.tolist()"
   ]
  },
  {
   "cell_type": "code",
   "execution_count": 31,
   "id": "8de561fa",
   "metadata": {
    "execution": {
     "iopub.execute_input": "2025-03-12T09:00:12.498680Z",
     "iopub.status.busy": "2025-03-12T09:00:12.498320Z",
     "iopub.status.idle": "2025-03-12T09:00:12.509480Z",
     "shell.execute_reply": "2025-03-12T09:00:12.508445Z"
    },
    "papermill": {
     "duration": 0.025044,
     "end_time": "2025-03-12T09:00:12.511143",
     "exception": false,
     "start_time": "2025-03-12T09:00:12.486099",
     "status": "completed"
    },
    "tags": []
   },
   "outputs": [
    {
     "data": {
      "text/html": [
       "<div>\n",
       "<style scoped>\n",
       "    .dataframe tbody tr th:only-of-type {\n",
       "        vertical-align: middle;\n",
       "    }\n",
       "\n",
       "    .dataframe tbody tr th {\n",
       "        vertical-align: top;\n",
       "    }\n",
       "\n",
       "    .dataframe thead th {\n",
       "        text-align: right;\n",
       "    }\n",
       "</style>\n",
       "<table border=\"1\" class=\"dataframe\">\n",
       "  <thead>\n",
       "    <tr style=\"text-align: right;\">\n",
       "      <th></th>\n",
       "      <th>id</th>\n",
       "      <th>title</th>\n",
       "      <th>tag</th>\n",
       "      <th>vote_average</th>\n",
       "      <th>vote_count</th>\n",
       "    </tr>\n",
       "  </thead>\n",
       "  <tbody>\n",
       "    <tr>\n",
       "      <th>1359</th>\n",
       "      <td>268</td>\n",
       "      <td>Batman</td>\n",
       "      <td>the dark knight of gotham city begins his war ...</td>\n",
       "      <td>7.0</td>\n",
       "      <td>2096</td>\n",
       "    </tr>\n",
       "    <tr>\n",
       "      <th>4267</th>\n",
       "      <td>2661</td>\n",
       "      <td>Batman</td>\n",
       "      <td>the dynamic duo faces four super-villains who ...</td>\n",
       "      <td>6.1</td>\n",
       "      <td>203</td>\n",
       "    </tr>\n",
       "  </tbody>\n",
       "</table>\n",
       "</div>"
      ],
      "text/plain": [
       "        id   title                                                tag  \\\n",
       "1359   268  Batman  the dark knight of gotham city begins his war ...   \n",
       "4267  2661  Batman  the dynamic duo faces four super-villains who ...   \n",
       "\n",
       "      vote_average  vote_count  \n",
       "1359           7.0        2096  \n",
       "4267           6.1         203  "
      ]
     },
     "execution_count": 31,
     "metadata": {},
     "output_type": "execute_result"
    }
   ],
   "source": [
    "findMovie(\"Batman\")"
   ]
  },
  {
   "cell_type": "code",
   "execution_count": 32,
   "id": "6779601a",
   "metadata": {
    "execution": {
     "iopub.execute_input": "2025-03-12T09:00:12.535486Z",
     "iopub.status.busy": "2025-03-12T09:00:12.535131Z",
     "iopub.status.idle": "2025-03-12T09:00:12.548213Z",
     "shell.execute_reply": "2025-03-12T09:00:12.547215Z"
    },
    "papermill": {
     "duration": 0.026944,
     "end_time": "2025-03-12T09:00:12.549661",
     "exception": false,
     "start_time": "2025-03-12T09:00:12.522717",
     "status": "completed"
    },
    "tags": []
   },
   "outputs": [
    {
     "data": {
      "text/plain": [
       "[[415, 'Batman & Robin'],\n",
       " [364, 'Batman Returns'],\n",
       " [49026, 'The Dark Knight Rises'],\n",
       " [155, 'The Dark Knight'],\n",
       " [272, 'Batman Begins'],\n",
       " [414, 'Batman Forever'],\n",
       " [209112, 'Batman v Superman: Dawn of Justice'],\n",
       " [39303, '2:13'],\n",
       " [1924, 'Superman'],\n",
       " [44912, 'Green Lantern']]"
      ]
     },
     "execution_count": 32,
     "metadata": {},
     "output_type": "execute_result"
    }
   ],
   "source": [
    "recommend(\"Batman\", cosine_sim, n_recommendations=10)"
   ]
  },
  {
   "cell_type": "markdown",
   "id": "89b24cdf",
   "metadata": {
    "papermill": {
     "duration": 0.011021,
     "end_time": "2025-03-12T09:00:12.572150",
     "exception": false,
     "start_time": "2025-03-12T09:00:12.561129",
     "status": "completed"
    },
    "tags": []
   },
   "source": [
    "## dumping the required things as pkl"
   ]
  },
  {
   "cell_type": "code",
   "execution_count": 33,
   "id": "9d828d92",
   "metadata": {
    "execution": {
     "iopub.execute_input": "2025-03-12T09:00:12.596655Z",
     "iopub.status.busy": "2025-03-12T09:00:12.596265Z",
     "iopub.status.idle": "2025-03-12T09:00:12.600073Z",
     "shell.execute_reply": "2025-03-12T09:00:12.599044Z"
    },
    "papermill": {
     "duration": 0.017827,
     "end_time": "2025-03-12T09:00:12.601781",
     "exception": false,
     "start_time": "2025-03-12T09:00:12.583954",
     "status": "completed"
    },
    "tags": []
   },
   "outputs": [],
   "source": [
    "import pickle"
   ]
  },
  {
   "cell_type": "code",
   "execution_count": 34,
   "id": "74c29927",
   "metadata": {
    "execution": {
     "iopub.execute_input": "2025-03-12T09:00:12.625885Z",
     "iopub.status.busy": "2025-03-12T09:00:12.625502Z",
     "iopub.status.idle": "2025-03-12T09:00:12.636689Z",
     "shell.execute_reply": "2025-03-12T09:00:12.635853Z"
    },
    "papermill": {
     "duration": 0.025135,
     "end_time": "2025-03-12T09:00:12.638440",
     "exception": false,
     "start_time": "2025-03-12T09:00:12.613305",
     "status": "completed"
    },
    "tags": []
   },
   "outputs": [],
   "source": [
    "pickle.dump(df, open('movies.pkl', 'wb'))"
   ]
  },
  {
   "cell_type": "code",
   "execution_count": 35,
   "id": "26092b12",
   "metadata": {
    "execution": {
     "iopub.execute_input": "2025-03-12T09:00:12.662619Z",
     "iopub.status.busy": "2025-03-12T09:00:12.662275Z",
     "iopub.status.idle": "2025-03-12T09:00:13.039537Z",
     "shell.execute_reply": "2025-03-12T09:00:13.038459Z"
    },
    "papermill": {
     "duration": 0.391546,
     "end_time": "2025-03-12T09:00:13.041419",
     "exception": false,
     "start_time": "2025-03-12T09:00:12.649873",
     "status": "completed"
    },
    "tags": []
   },
   "outputs": [],
   "source": [
    "pickle.dump(cosine_sim, open('cosine_sim.pkl', 'wb'))"
   ]
  },
  {
   "cell_type": "code",
   "execution_count": null,
   "id": "50c3f913",
   "metadata": {
    "papermill": {
     "duration": 0.011135,
     "end_time": "2025-03-12T09:00:13.064175",
     "exception": false,
     "start_time": "2025-03-12T09:00:13.053040",
     "status": "completed"
    },
    "tags": []
   },
   "outputs": [],
   "source": []
  }
 ],
 "metadata": {
  "kaggle": {
   "accelerator": "none",
   "dataSources": [
    {
     "datasetId": 138,
     "sourceId": 4508,
     "sourceType": "datasetVersion"
    }
   ],
   "dockerImageVersionId": 30918,
   "isGpuEnabled": false,
   "isInternetEnabled": true,
   "language": "python",
   "sourceType": "notebook"
  },
  "kernelspec": {
   "display_name": "Python 3",
   "language": "python",
   "name": "python3"
  },
  "language_info": {
   "codemirror_mode": {
    "name": "ipython",
    "version": 3
   },
   "file_extension": ".py",
   "mimetype": "text/x-python",
   "name": "python",
   "nbconvert_exporter": "python",
   "pygments_lexer": "ipython3",
   "version": "3.10.12"
  },
  "papermill": {
   "default_parameters": {},
   "duration": 23.544631,
   "end_time": "2025-03-12T09:00:13.896966",
   "environment_variables": {},
   "exception": null,
   "input_path": "__notebook__.ipynb",
   "output_path": "__notebook__.ipynb",
   "parameters": {},
   "start_time": "2025-03-12T08:59:50.352335",
   "version": "2.6.0"
  }
 },
 "nbformat": 4,
 "nbformat_minor": 5
}
